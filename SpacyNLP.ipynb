{
  "nbformat": 4,
  "nbformat_minor": 0,
  "metadata": {
    "colab": {
      "name": "SpacyNLP ",
      "provenance": [],
      "collapsed_sections": [],
      "toc_visible": true,
      "machine_shape": "hm",
      "authorship_tag": "ABX9TyMNYYZkpO8dZKJ4lWdtqox1",
      "include_colab_link": true
    },
    "kernelspec": {
      "name": "python3",
      "display_name": "Python 3"
    }
  },
  "cells": [
    {
      "cell_type": "markdown",
      "metadata": {
        "id": "view-in-github",
        "colab_type": "text"
      },
      "source": [
        "<a href=\"https://colab.research.google.com/github/acanetti/Profiler/blob/master/SpacyNLP.ipynb\" target=\"_parent\"><img src=\"https://colab.research.google.com/assets/colab-badge.svg\" alt=\"Open In Colab\"/></a>"
      ]
    },
    {
      "cell_type": "code",
      "metadata": {
        "id": "MdtB_uRYMSyS",
        "colab_type": "code",
        "colab": {}
      },
      "source": [
        "import pandas as pd \n",
        "import numpy as np \n",
        "import os    \n",
        "from IPython.display import clear_output\n",
        "PATH ='drive/My Drive/data' \n",
        "import wordcloud\n",
        "import matplotlib.pyplot as plt \n",
        "from ipywidgets import interact  \n",
        "import time \n",
        "%matplotlib inline "
      ],
      "execution_count": 0,
      "outputs": []
    },
    {
      "cell_type": "code",
      "metadata": {
        "id": "QYr2DIPZMW7w",
        "colab_type": "code",
        "outputId": "dc96ce10-04f0-468e-a7b3-38e1aef6dc6a",
        "colab": {
          "base_uri": "https://localhost:8080/",
          "height": 34
        }
      },
      "source": [
        "from google.colab import drive\n",
        "drive.mount('/content/drive')"
      ],
      "execution_count": 2,
      "outputs": [
        {
          "output_type": "stream",
          "text": [
            "Drive already mounted at /content/drive; to attempt to forcibly remount, call drive.mount(\"/content/drive\", force_remount=True).\n"
          ],
          "name": "stdout"
        }
      ]
    },
    {
      "cell_type": "markdown",
      "metadata": {
        "id": "c7EAo1kL4v8t",
        "colab_type": "text"
      },
      "source": [
        "# Installation et import de SPacy pour reconnaissance d'entité nommé "
      ]
    },
    {
      "cell_type": "code",
      "metadata": {
        "id": "9XJSweO74vUs",
        "colab_type": "code",
        "colab": {}
      },
      "source": [
        "\n",
        "!pip install -U spaCy\n",
        "!python -m spacy download fr\n",
        "!python -m spacy download fr_core_news_md  \n",
        "import spacy\n",
        "from spacy import displacy\n",
        "nlp = spacy.load('fr') \n",
        "clear_output()\n"
      ],
      "execution_count": 0,
      "outputs": []
    },
    {
      "cell_type": "markdown",
      "metadata": {
        "id": "HjtsIa0kjt06",
        "colab_type": "text"
      },
      "source": [
        "# Import données Démocratie "
      ]
    },
    {
      "cell_type": "code",
      "metadata": {
        "id": "DWMwxFNhNf2C",
        "colab_type": "code",
        "outputId": "e8f593a1-718a-4281-810b-b691399357b1",
        "colab": {
          "base_uri": "https://localhost:8080/",
          "height": 71
        }
      },
      "source": [
        "df=pd.read_csv(PATH + '/democratie_clean.csv')"
      ],
      "execution_count": 4,
      "outputs": [
        {
          "output_type": "stream",
          "text": [
            "/usr/local/lib/python3.6/dist-packages/IPython/core/interactiveshell.py:2718: DtypeWarning: Columns (2) have mixed types. Specify dtype option on import or set low_memory=False.\n",
            "  interactivity=interactivity, compiler=compiler, result=result)\n"
          ],
          "name": "stderr"
        }
      ]
    },
    {
      "cell_type": "code",
      "metadata": {
        "id": "VFFtNH66Qox2",
        "colab_type": "code",
        "outputId": "a8655761-b008-4ab4-b51d-3c3ace634883",
        "colab": {
          "base_uri": "https://localhost:8080/",
          "height": 1000
        }
      },
      "source": [
        "df"
      ],
      "execution_count": 5,
      "outputs": [
        {
          "output_type": "execute_result",
          "data": {
            "text/html": [
              "<div>\n",
              "<style scoped>\n",
              "    .dataframe tbody tr th:only-of-type {\n",
              "        vertical-align: middle;\n",
              "    }\n",
              "\n",
              "    .dataframe tbody tr th {\n",
              "        vertical-align: top;\n",
              "    }\n",
              "\n",
              "    .dataframe thead th {\n",
              "        text-align: right;\n",
              "    }\n",
              "</style>\n",
              "<table border=\"1\" class=\"dataframe\">\n",
              "  <thead>\n",
              "    <tr style=\"text-align: right;\">\n",
              "      <th></th>\n",
              "      <th>Unnamed: 0</th>\n",
              "      <th>title</th>\n",
              "      <th>authorZipCode</th>\n",
              "      <th>Q_0</th>\n",
              "      <th>Q_1</th>\n",
              "      <th>Q_2</th>\n",
              "      <th>Q_3</th>\n",
              "      <th>Q_4</th>\n",
              "      <th>Q_5</th>\n",
              "      <th>Q_6</th>\n",
              "      <th>Q_7</th>\n",
              "      <th>Q_8</th>\n",
              "      <th>Q_9</th>\n",
              "      <th>Q_10</th>\n",
              "      <th>Q_11</th>\n",
              "      <th>Q_12</th>\n",
              "      <th>Q_13</th>\n",
              "      <th>Q_14</th>\n",
              "      <th>Q_15</th>\n",
              "      <th>Q_16</th>\n",
              "      <th>Q_17</th>\n",
              "      <th>Q_18</th>\n",
              "      <th>Q_19</th>\n",
              "      <th>Q_20</th>\n",
              "      <th>Q_21</th>\n",
              "      <th>Q_22</th>\n",
              "      <th>Q_23</th>\n",
              "      <th>Q_24</th>\n",
              "      <th>Q_25</th>\n",
              "      <th>Q_26</th>\n",
              "      <th>Q_27</th>\n",
              "      <th>Q_28</th>\n",
              "      <th>Q_29</th>\n",
              "      <th>Q_30</th>\n",
              "      <th>Q_31</th>\n",
              "      <th>Q_32</th>\n",
              "      <th>Q_33</th>\n",
              "      <th>Q_34</th>\n",
              "      <th>Q_35</th>\n",
              "      <th>Q_36</th>\n",
              "    </tr>\n",
              "  </thead>\n",
              "  <tbody>\n",
              "    <tr>\n",
              "      <th>0</th>\n",
              "      <td>0</td>\n",
              "      <td>Les augmentations de rémunérations</td>\n",
              "      <td>79190</td>\n",
              "      <td>Le citoyen</td>\n",
              "      <td>Non</td>\n",
              "      <td>//</td>\n",
              "      <td>//</td>\n",
              "      <td>//</td>\n",
              "      <td>//</td>\n",
              "      <td>//</td>\n",
              "      <td>//</td>\n",
              "      <td>//</td>\n",
              "      <td>//</td>\n",
              "      <td>//</td>\n",
              "      <td>//</td>\n",
              "      <td>//</td>\n",
              "      <td>//</td>\n",
              "      <td>//</td>\n",
              "      <td>//</td>\n",
              "      <td>//</td>\n",
              "      <td>//</td>\n",
              "      <td>//</td>\n",
              "      <td>//</td>\n",
              "      <td>//</td>\n",
              "      <td>//</td>\n",
              "      <td>//</td>\n",
              "      <td>//</td>\n",
              "      <td>//</td>\n",
              "      <td>//</td>\n",
              "      <td>//</td>\n",
              "      <td>//</td>\n",
              "      <td>//</td>\n",
              "      <td>//</td>\n",
              "      <td>//</td>\n",
              "      <td>//</td>\n",
              "      <td>//</td>\n",
              "      <td>//</td>\n",
              "      <td>//</td>\n",
              "      <td>//</td>\n",
              "      <td>Afin d’éviter de creuser les inégalités ne plu...</td>\n",
              "    </tr>\n",
              "    <tr>\n",
              "      <th>1</th>\n",
              "      <td>1</td>\n",
              "      <td>rénover l'enquête publique pour en faire un vr...</td>\n",
              "      <td>1800</td>\n",
              "      <td>Un instrument de démocratie locale à modernise...</td>\n",
              "      <td>//</td>\n",
              "      <td>//</td>\n",
              "      <td>//</td>\n",
              "      <td>//</td>\n",
              "      <td>//</td>\n",
              "      <td>//</td>\n",
              "      <td>//</td>\n",
              "      <td>//</td>\n",
              "      <td>//</td>\n",
              "      <td>//</td>\n",
              "      <td>//</td>\n",
              "      <td>//</td>\n",
              "      <td>//</td>\n",
              "      <td>//</td>\n",
              "      <td>//</td>\n",
              "      <td>//</td>\n",
              "      <td>//</td>\n",
              "      <td>//</td>\n",
              "      <td>//</td>\n",
              "      <td>//</td>\n",
              "      <td>//</td>\n",
              "      <td>//</td>\n",
              "      <td>//</td>\n",
              "      <td>//</td>\n",
              "      <td>//</td>\n",
              "      <td>//</td>\n",
              "      <td>//</td>\n",
              "      <td>//</td>\n",
              "      <td>//</td>\n",
              "      <td>//</td>\n",
              "      <td>//</td>\n",
              "      <td>//</td>\n",
              "      <td>//</td>\n",
              "      <td>//</td>\n",
              "      <td>//</td>\n",
              "      <td>//</td>\n",
              "    </tr>\n",
              "    <tr>\n",
              "      <th>2</th>\n",
              "      <td>2</td>\n",
              "      <td>Limitations de vitesse et sécurité routière</td>\n",
              "      <td>44300</td>\n",
              "      <td>//</td>\n",
              "      <td>//</td>\n",
              "      <td>//</td>\n",
              "      <td>//</td>\n",
              "      <td>//</td>\n",
              "      <td>//</td>\n",
              "      <td>//</td>\n",
              "      <td>//</td>\n",
              "      <td>//</td>\n",
              "      <td>//</td>\n",
              "      <td>//</td>\n",
              "      <td>//</td>\n",
              "      <td>//</td>\n",
              "      <td>//</td>\n",
              "      <td>//</td>\n",
              "      <td>//</td>\n",
              "      <td>//</td>\n",
              "      <td>//</td>\n",
              "      <td>//</td>\n",
              "      <td>//</td>\n",
              "      <td>//</td>\n",
              "      <td>//</td>\n",
              "      <td>//</td>\n",
              "      <td>//</td>\n",
              "      <td>//</td>\n",
              "      <td>//</td>\n",
              "      <td>//</td>\n",
              "      <td>//</td>\n",
              "      <td>//</td>\n",
              "      <td>//</td>\n",
              "      <td>//</td>\n",
              "      <td>//</td>\n",
              "      <td>//</td>\n",
              "      <td>//</td>\n",
              "      <td>//</td>\n",
              "      <td>//</td>\n",
              "      <td>Nous proposons le retour à la limitation de vi...</td>\n",
              "    </tr>\n",
              "    <tr>\n",
              "      <th>3</th>\n",
              "      <td>3</td>\n",
              "      <td>Pour un nouveau contrat citoyen</td>\n",
              "      <td>29490</td>\n",
              "      <td>Voir l'intégralité de la proposition dans la d...</td>\n",
              "      <td>//</td>\n",
              "      <td>//</td>\n",
              "      <td>//</td>\n",
              "      <td>//</td>\n",
              "      <td>//</td>\n",
              "      <td>//</td>\n",
              "      <td>//</td>\n",
              "      <td>//</td>\n",
              "      <td>//</td>\n",
              "      <td>//</td>\n",
              "      <td>//</td>\n",
              "      <td>//</td>\n",
              "      <td>//</td>\n",
              "      <td>//</td>\n",
              "      <td>//</td>\n",
              "      <td>//</td>\n",
              "      <td>//</td>\n",
              "      <td>//</td>\n",
              "      <td>//</td>\n",
              "      <td>//</td>\n",
              "      <td>//</td>\n",
              "      <td>//</td>\n",
              "      <td>//</td>\n",
              "      <td>//</td>\n",
              "      <td>//</td>\n",
              "      <td>//</td>\n",
              "      <td>//</td>\n",
              "      <td>//</td>\n",
              "      <td>//</td>\n",
              "      <td>//</td>\n",
              "      <td>//</td>\n",
              "      <td>//</td>\n",
              "      <td>//</td>\n",
              "      <td>//</td>\n",
              "      <td>//</td>\n",
              "      <td>POUR UN NOUVEAU CONTRAT CITOYEN               ...</td>\n",
              "    </tr>\n",
              "    <tr>\n",
              "      <th>4</th>\n",
              "      <td>4</td>\n",
              "      <td>Développer les démarches de budget participati...</td>\n",
              "      <td>94300</td>\n",
              "      <td>député, maire, moi même</td>\n",
              "      <td>Non</td>\n",
              "      <td>//</td>\n",
              "      <td>Budget participatif, possibilité d'interpeller...</td>\n",
              "      <td>Une bonne chose</td>\n",
              "      <td>//</td>\n",
              "      <td>//</td>\n",
              "      <td>Oui</td>\n",
              "      <td>//</td>\n",
              "      <td>//</td>\n",
              "      <td>Oui</td>\n",
              "      <td>//</td>\n",
              "      <td>Des démarches de débat public (délibération) e...</td>\n",
              "      <td>//</td>\n",
              "      <td>//</td>\n",
              "      <td>//</td>\n",
              "      <td>//</td>\n",
              "      <td>//</td>\n",
              "      <td>//</td>\n",
              "      <td>//</td>\n",
              "      <td>//</td>\n",
              "      <td>//</td>\n",
              "      <td>//</td>\n",
              "      <td>//</td>\n",
              "      <td>//</td>\n",
              "      <td>//</td>\n",
              "      <td>//</td>\n",
              "      <td>//</td>\n",
              "      <td>//</td>\n",
              "      <td>//</td>\n",
              "      <td>//</td>\n",
              "      <td>//</td>\n",
              "      <td>//</td>\n",
              "      <td>//</td>\n",
              "      <td>//</td>\n",
              "      <td>//</td>\n",
              "      <td>//</td>\n",
              "    </tr>\n",
              "    <tr>\n",
              "      <th>...</th>\n",
              "      <td>...</td>\n",
              "      <td>...</td>\n",
              "      <td>...</td>\n",
              "      <td>...</td>\n",
              "      <td>...</td>\n",
              "      <td>...</td>\n",
              "      <td>...</td>\n",
              "      <td>...</td>\n",
              "      <td>...</td>\n",
              "      <td>...</td>\n",
              "      <td>...</td>\n",
              "      <td>...</td>\n",
              "      <td>...</td>\n",
              "      <td>...</td>\n",
              "      <td>...</td>\n",
              "      <td>...</td>\n",
              "      <td>...</td>\n",
              "      <td>...</td>\n",
              "      <td>...</td>\n",
              "      <td>...</td>\n",
              "      <td>...</td>\n",
              "      <td>...</td>\n",
              "      <td>...</td>\n",
              "      <td>...</td>\n",
              "      <td>...</td>\n",
              "      <td>...</td>\n",
              "      <td>...</td>\n",
              "      <td>...</td>\n",
              "      <td>...</td>\n",
              "      <td>...</td>\n",
              "      <td>...</td>\n",
              "      <td>...</td>\n",
              "      <td>...</td>\n",
              "      <td>...</td>\n",
              "      <td>...</td>\n",
              "      <td>...</td>\n",
              "      <td>...</td>\n",
              "      <td>...</td>\n",
              "      <td>...</td>\n",
              "      <td>...</td>\n",
              "    </tr>\n",
              "    <tr>\n",
              "      <th>116544</th>\n",
              "      <td>116544</td>\n",
              "      <td>En finir avec la 5e république</td>\n",
              "      <td>31380</td>\n",
              "      <td>Le milieu associatif, Les élus locaux.</td>\n",
              "      <td>Oui</td>\n",
              "      <td>Toute association ou organisation sans but luc...</td>\n",
              "      <td>Les élus devrait rendre des comptes à échéance...</td>\n",
              "      <td>Une bonne chose</td>\n",
              "      <td>Il n'est pas humainement possible de faire cor...</td>\n",
              "      <td>plus de proportionnelle</td>\n",
              "      <td>Oui</td>\n",
              "      <td>Redondances entre intercommunalités et départe...</td>\n",
              "      <td>Changer les modes de scrutin pour pouvoir réel...</td>\n",
              "      <td>Oui</td>\n",
              "      <td>Comptabiliser les votes blancs afin de pouvoir...</td>\n",
              "      <td>Le sénat devrait être supprimé et remplacé par...</td>\n",
              "      <td>Je ne sais pas</td>\n",
              "      <td>//</td>\n",
              "      <td>Proposer des référendums en ligne avec éventue...</td>\n",
              "      <td>Elle devrait pouvoir valider ou refuser les pr...</td>\n",
              "      <td>Oui</td>\n",
              "      <td>Elles devraient être remplacée par une assembl...</td>\n",
              "      <td>Appliquer les lois éxistantes semble largement...</td>\n",
              "      <td>???</td>\n",
              "      <td>Faire en sorte que les citoyens se reconnaisse...</td>\n",
              "      <td>Entraide, bienvaillance, respect des différence.</td>\n",
              "      <td>L'éducation: Mettre en avant ces comportement ...</td>\n",
              "      <td>//</td>\n",
              "      <td>//</td>\n",
              "      <td>//</td>\n",
              "      <td>//</td>\n",
              "      <td>//</td>\n",
              "      <td>//</td>\n",
              "      <td>//</td>\n",
              "      <td>//</td>\n",
              "      <td>//</td>\n",
              "      <td>//</td>\n",
              "      <td>//</td>\n",
              "      <td>//</td>\n",
              "      <td>//</td>\n",
              "    </tr>\n",
              "    <tr>\n",
              "      <th>116545</th>\n",
              "      <td>116545</td>\n",
              "      <td>Démocratie</td>\n",
              "      <td>30600</td>\n",
              "      <td>//</td>\n",
              "      <td>Oui</td>\n",
              "      <td>//</td>\n",
              "      <td>//</td>\n",
              "      <td>Une bonne chose</td>\n",
              "      <td>//</td>\n",
              "      <td>//</td>\n",
              "      <td>Oui</td>\n",
              "      <td>//</td>\n",
              "      <td>//</td>\n",
              "      <td>Oui</td>\n",
              "      <td>Si le vote blanc est majoritaire d'autres list...</td>\n",
              "      <td>//</td>\n",
              "      <td>//</td>\n",
              "      <td>//</td>\n",
              "      <td>//</td>\n",
              "      <td>//</td>\n",
              "      <td>//</td>\n",
              "      <td>//</td>\n",
              "      <td>//</td>\n",
              "      <td>//</td>\n",
              "      <td>//</td>\n",
              "      <td>//</td>\n",
              "      <td>//</td>\n",
              "      <td>//</td>\n",
              "      <td>//</td>\n",
              "      <td>//</td>\n",
              "      <td>//</td>\n",
              "      <td>//</td>\n",
              "      <td>//</td>\n",
              "      <td>Non</td>\n",
              "      <td>//</td>\n",
              "      <td>//</td>\n",
              "      <td>//</td>\n",
              "      <td>//</td>\n",
              "      <td>//</td>\n",
              "      <td>//</td>\n",
              "    </tr>\n",
              "    <tr>\n",
              "      <th>116546</th>\n",
              "      <td>116546</td>\n",
              "      <td>Une démocratie plus réelle.</td>\n",
              "      <td>75012</td>\n",
              "      <td>aucun.</td>\n",
              "      <td>Non</td>\n",
              "      <td>//</td>\n",
              "      <td>//</td>\n",
              "      <td>Une mauvaise chose</td>\n",
              "      <td>Lien entre élus nationaux et population</td>\n",
              "      <td>//</td>\n",
              "      <td>Oui</td>\n",
              "      <td>Conseils de groupements intercommunaux.</td>\n",
              "      <td>//</td>\n",
              "      <td>Oui</td>\n",
              "      <td>En le comptabilisant à part.</td>\n",
              "      <td>Le référendum d'initiative citoyenne.</td>\n",
              "      <td>//</td>\n",
              "      <td>//</td>\n",
              "      <td>//</td>\n",
              "      <td>//</td>\n",
              "      <td>//</td>\n",
              "      <td>//</td>\n",
              "      <td>//</td>\n",
              "      <td>//</td>\n",
              "      <td>//</td>\n",
              "      <td>//</td>\n",
              "      <td>//</td>\n",
              "      <td>//</td>\n",
              "      <td>Comportements agressifs, grossiers envers les ...</td>\n",
              "      <td>Verbalisation et contrainte au paiement des am...</td>\n",
              "      <td>//</td>\n",
              "      <td>//</td>\n",
              "      <td>//</td>\n",
              "      <td>Oui</td>\n",
              "      <td>Participation à des travaux d'intérêt collectif.</td>\n",
              "      <td>Situation incontrôlée.  Critères : les besoins...</td>\n",
              "      <td>//</td>\n",
              "      <td>//</td>\n",
              "      <td>//</td>\n",
              "      <td>Oui.  Non-représentativité des élus. Absence d...</td>\n",
              "    </tr>\n",
              "    <tr>\n",
              "      <th>116547</th>\n",
              "      <td>116547</td>\n",
              "      <td>Halte aux lois liberticides telle la loi anti ...</td>\n",
              "      <td>67550</td>\n",
              "      <td>en moi même!</td>\n",
              "      <td>Oui</td>\n",
              "      <td>syndicats</td>\n",
              "      <td>moins de mensonges dans les programmes. Moins ...</td>\n",
              "      <td>Une mauvaise chose</td>\n",
              "      <td>On a des députés qui n'ont jamais eu à gérer u...</td>\n",
              "      <td>Un peu de proportionnelle au niveau des législ...</td>\n",
              "      <td>Non</td>\n",
              "      <td>Plus on réduit les élus plus ils sont loin du ...</td>\n",
              "      <td>Arrêter de faire des programmes alléchants non...</td>\n",
              "      <td>Oui</td>\n",
              "      <td>Refaire l'élection si plus d'un certain pource...</td>\n",
              "      <td>//</td>\n",
              "      <td>Je ne sais pas</td>\n",
              "      <td>//</td>\n",
              "      <td>//</td>\n",
              "      <td>//</td>\n",
              "      <td>Non</td>\n",
              "      <td>Ne surtout pas supprimer le sénat!!!</td>\n",
              "      <td>On a un état suffisament laic. Et je tiens à g...</td>\n",
              "      <td>//</td>\n",
              "      <td>Mieux respecter les instances. A quoi sert de ...</td>\n",
              "      <td>//</td>\n",
              "      <td>//</td>\n",
              "      <td>//</td>\n",
              "      <td>//</td>\n",
              "      <td>//</td>\n",
              "      <td>//</td>\n",
              "      <td>//</td>\n",
              "      <td>//</td>\n",
              "      <td>Non</td>\n",
              "      <td>//</td>\n",
              "      <td>//</td>\n",
              "      <td>oui. Mais que faire contre les migrants victim...</td>\n",
              "      <td>Aider les pays sur place. Arrêter de les ruine...</td>\n",
              "      <td>Dispenser des cours de langue massifs aux migr...</td>\n",
              "      <td>Il faut arrêter cette mode de lois repressives...</td>\n",
              "    </tr>\n",
              "    <tr>\n",
              "      <th>116548</th>\n",
              "      <td>116548</td>\n",
              "      <td>Nous devons tous avoir une place, comme une fo...</td>\n",
              "      <td>93470</td>\n",
              "      <td>Moi</td>\n",
              "      <td>Oui</td>\n",
              "      <td>Il faut de toute urgence former les citoyens a...</td>\n",
              "      <td>Il faut plus de dialogue, de temps avant les p...</td>\n",
              "      <td>Une bonne chose</td>\n",
              "      <td>Se concentrer sur les objectifs à réaliser et ...</td>\n",
              "      <td>Il faut plus de partis politiques et plus de d...</td>\n",
              "      <td>Non</td>\n",
              "      <td>//</td>\n",
              "      <td>Il faut les écouter, il faut les comprendre et...</td>\n",
              "      <td>Oui</td>\n",
              "      <td>Décompte du pourcentage général.</td>\n",
              "      <td>Il faut proposer des collèges de citoyens capa...</td>\n",
              "      <td>Oui</td>\n",
              "      <td>Il faut que le citoyen puis accéder à une sort...</td>\n",
              "      <td>Il faut créer un modèle d'objectifs publique e...</td>\n",
              "      <td>Elles doivent avoir plus de temps pour évaluer...</td>\n",
              "      <td>Oui</td>\n",
              "      <td>Les ministères doivent fusionner, coordonner l...</td>\n",
              "      <td>Il faut en premier apprendre aux enfants que v...</td>\n",
              "      <td>Il faut de l'éducation et plus de débat.</td>\n",
              "      <td>Il faut les comprendre et les interroger</td>\n",
              "      <td>la promotion de l'écologie et sa globalité, ex...</td>\n",
              "      <td>Education et dialogues dans les villes. Ne pas...</td>\n",
              "      <td>Il faut qu'il puisse les interroger et qu'elle...</td>\n",
              "      <td>Les déchets au sol</td>\n",
              "      <td>Monter l'exemple</td>\n",
              "      <td>Les dénoncer</td>\n",
              "      <td>Le racisme que je considère comme un problème ...</td>\n",
              "      <td>Qu'ils se parlent plus pour comprendre que l'a...</td>\n",
              "      <td>Non</td>\n",
              "      <td>//</td>\n",
              "      <td>Il faut aider plus les plus en voie de dévelop...</td>\n",
              "      <td>Non</td>\n",
              "      <td>Il faut former les pays en voie de développeme...</td>\n",
              "      <td>L'éducation</td>\n",
              "      <td>Si chaque citoyen ne trouve pas de place dans ...</td>\n",
              "    </tr>\n",
              "  </tbody>\n",
              "</table>\n",
              "<p>116549 rows × 40 columns</p>\n",
              "</div>"
            ],
            "text/plain": [
              "        Unnamed: 0  ...                                               Q_36\n",
              "0                0  ...  Afin d’éviter de creuser les inégalités ne plu...\n",
              "1                1  ...                                                 //\n",
              "2                2  ...  Nous proposons le retour à la limitation de vi...\n",
              "3                3  ...  POUR UN NOUVEAU CONTRAT CITOYEN               ...\n",
              "4                4  ...                                                 //\n",
              "...            ...  ...                                                ...\n",
              "116544      116544  ...                                                 //\n",
              "116545      116545  ...                                                 //\n",
              "116546      116546  ...  Oui.  Non-représentativité des élus. Absence d...\n",
              "116547      116547  ...  Il faut arrêter cette mode de lois repressives...\n",
              "116548      116548  ...  Si chaque citoyen ne trouve pas de place dans ...\n",
              "\n",
              "[116549 rows x 40 columns]"
            ]
          },
          "metadata": {
            "tags": []
          },
          "execution_count": 5
        }
      ]
    },
    {
      "cell_type": "markdown",
      "metadata": {
        "id": "tQWsz5nZj4lW",
        "colab_type": "text"
      },
      "source": [
        "#  NLP "
      ]
    },
    {
      "cell_type": "code",
      "metadata": {
        "id": "LCw-xUWP2SMi",
        "colab_type": "code",
        "colab": {}
      },
      "source": [
        "test = nlp(\" je suis attentive , j'aime le poulet aux oignons à Paris dans une rivière que j'aime , près de la Mairie \")"
      ],
      "execution_count": 0,
      "outputs": []
    },
    {
      "cell_type": "code",
      "metadata": {
        "id": "eeNmvob72TEx",
        "colab_type": "code",
        "outputId": "90359bad-8932-458a-ee30-14960b7f723c",
        "colab": {
          "base_uri": "https://localhost:8080/",
          "height": 51
        }
      },
      "source": [
        "for ent in test.ents:\n",
        "     print(ent.text, ent.label_)\n"
      ],
      "execution_count": 7,
      "outputs": [
        {
          "output_type": "stream",
          "text": [
            "Paris LOC\n",
            "Mairie LOC\n"
          ],
          "name": "stdout"
        }
      ]
    },
    {
      "cell_type": "code",
      "metadata": {
        "id": "nMcVavYi6ilM",
        "colab_type": "code",
        "outputId": "cd4a9a55-4e62-41c8-f756-abcc9639f474",
        "colab": {
          "base_uri": "https://localhost:8080/",
          "height": 425
        }
      },
      "source": [
        "\n",
        "for token in test:\n",
        "    print(\"{0}/{1} <--{2}-- {3}/{4}\".format(\n",
        "\n",
        "                                        token.text,\n",
        "                                        token.tag_,\n",
        "\n",
        "                                        token.dep_,\n",
        "\n",
        "                                        token.head.text,\n",
        "\n",
        "                                        token.head.tag_))\n"
      ],
      "execution_count": 8,
      "outputs": [
        {
          "output_type": "stream",
          "text": [
            " /_SP <---- je/PRON__Number=Sing|Person=1\n",
            "je/PRON__Number=Sing|Person=1 <--nsubj-- attentive/ADJ__Gender=Fem|Number=Sing\n",
            "suis/AUX__Mood=Ind|Number=Sing|Person=1|Tense=Pres|VerbForm=Fin <--cop-- attentive/ADJ__Gender=Fem|Number=Sing\n",
            "attentive/ADJ__Gender=Fem|Number=Sing <--ROOT-- attentive/ADJ__Gender=Fem|Number=Sing\n",
            ",/PUNCT___ <--punct-- attentive/ADJ__Gender=Fem|Number=Sing\n",
            "j'/PRON__Number=Sing|Person=1 <--nsubj-- aime/VERB__Mood=Ind|Number=Sing|Person=1|Tense=Pres|VerbForm=Fin\n",
            "aime/VERB__Mood=Ind|Number=Sing|Person=1|Tense=Pres|VerbForm=Fin <--parataxis-- attentive/ADJ__Gender=Fem|Number=Sing\n",
            "le/DET__Definite=Def|Gender=Masc|Number=Sing|PronType=Art <--det-- poulet/NOUN__Gender=Masc|Number=Sing\n",
            "poulet/NOUN__Gender=Masc|Number=Sing <--obj-- aime/VERB__Mood=Ind|Number=Sing|Person=1|Tense=Pres|VerbForm=Fin\n",
            "aux/ADJ__Gender=Masc|Number=Plur <--amod-- poulet/NOUN__Gender=Masc|Number=Sing\n",
            "oignons/NOUN__Gender=Fem|Number=Plur <--nmod-- poulet/NOUN__Gender=Masc|Number=Sing\n",
            "à/ADP___ <--case-- Paris/PROPN__Gender=Masc|Number=Sing\n",
            "Paris/PROPN__Gender=Masc|Number=Sing <--obl-- oignons/NOUN__Gender=Fem|Number=Plur\n",
            "dans/ADP___ <--case-- rivière/NOUN__Gender=Fem|Number=Sing\n",
            "une/DET__Definite=Ind|Gender=Fem|Number=Sing|PronType=Art <--det-- rivière/NOUN__Gender=Fem|Number=Sing\n",
            "rivière/NOUN__Gender=Fem|Number=Sing <--obl-- aime/VERB__Mood=Ind|Number=Sing|Person=1|Tense=Pres|VerbForm=Fin\n",
            "que/SCONJ___ <--obj-- aime/VERB__Mood=Ind|Number=Sing|Person=1|Tense=Pres|VerbForm=Fin\n",
            "j'/PRON__Number=Sing|Person=1 <--nsubj-- aime/VERB__Mood=Ind|Number=Sing|Person=1|Tense=Pres|VerbForm=Fin\n",
            "aime/VERB__Mood=Ind|Number=Sing|Person=1|Tense=Pres|VerbForm=Fin <--acl:relcl-- rivière/NOUN__Gender=Fem|Number=Sing\n",
            ",/PUNCT___ <--punct-- aime/VERB__Mood=Ind|Number=Sing|Person=1|Tense=Pres|VerbForm=Fin\n",
            "près/ADP___ <--case-- Mairie/NOUN__Gender=Fem|Number=Sing\n",
            "de/ADP___ <--fixed-- près/ADP___\n",
            "la/DET__Definite=Def|Gender=Fem|Number=Sing|PronType=Art <--det-- Mairie/NOUN__Gender=Fem|Number=Sing\n",
            "Mairie/NOUN__Gender=Fem|Number=Sing <--obl-- aime/VERB__Mood=Ind|Number=Sing|Person=1|Tense=Pres|VerbForm=Fin\n"
          ],
          "name": "stdout"
        }
      ]
    },
    {
      "cell_type": "code",
      "metadata": {
        "id": "4UAd4ic926Lh",
        "colab_type": "code",
        "outputId": "8653e08f-6abe-4564-b236-48ef095e6a7c",
        "colab": {
          "base_uri": "https://localhost:8080/",
          "height": 503
        }
      },
      "source": [
        "displacy.render(test, style='dep', jupyter=True, options={'distance': 130})\n"
      ],
      "execution_count": 9,
      "outputs": [
        {
          "output_type": "display_data",
          "data": {
            "text/html": [
              "<span class=\"tex2jax_ignore\"><svg xmlns=\"http://www.w3.org/2000/svg\" xmlns:xlink=\"http://www.w3.org/1999/xlink\" xml:lang=\"fr\" id=\"22e22f2352fd4cd0b9640d21a806c17b-0\" class=\"displacy\" width=\"2910\" height=\"462.0\" direction=\"ltr\" style=\"max-width: none; height: 462.0px; color: #000000; background: #ffffff; font-family: Arial; direction: ltr\">\n",
              "<text class=\"displacy-token\" fill=\"currentColor\" text-anchor=\"middle\" y=\"372.0\">\n",
              "    <tspan class=\"displacy-word\" fill=\"currentColor\" x=\"50\"> </tspan>\n",
              "    <tspan class=\"displacy-tag\" dy=\"2em\" fill=\"currentColor\" x=\"50\">SPACE</tspan>\n",
              "</text>\n",
              "\n",
              "<text class=\"displacy-token\" fill=\"currentColor\" text-anchor=\"middle\" y=\"372.0\">\n",
              "    <tspan class=\"displacy-word\" fill=\"currentColor\" x=\"180\">je</tspan>\n",
              "    <tspan class=\"displacy-tag\" dy=\"2em\" fill=\"currentColor\" x=\"180\">PRON</tspan>\n",
              "</text>\n",
              "\n",
              "<text class=\"displacy-token\" fill=\"currentColor\" text-anchor=\"middle\" y=\"372.0\">\n",
              "    <tspan class=\"displacy-word\" fill=\"currentColor\" x=\"310\">suis</tspan>\n",
              "    <tspan class=\"displacy-tag\" dy=\"2em\" fill=\"currentColor\" x=\"310\">AUX</tspan>\n",
              "</text>\n",
              "\n",
              "<text class=\"displacy-token\" fill=\"currentColor\" text-anchor=\"middle\" y=\"372.0\">\n",
              "    <tspan class=\"displacy-word\" fill=\"currentColor\" x=\"440\">attentive ,</tspan>\n",
              "    <tspan class=\"displacy-tag\" dy=\"2em\" fill=\"currentColor\" x=\"440\">ADJ</tspan>\n",
              "</text>\n",
              "\n",
              "<text class=\"displacy-token\" fill=\"currentColor\" text-anchor=\"middle\" y=\"372.0\">\n",
              "    <tspan class=\"displacy-word\" fill=\"currentColor\" x=\"570\">j'</tspan>\n",
              "    <tspan class=\"displacy-tag\" dy=\"2em\" fill=\"currentColor\" x=\"570\">PRON</tspan>\n",
              "</text>\n",
              "\n",
              "<text class=\"displacy-token\" fill=\"currentColor\" text-anchor=\"middle\" y=\"372.0\">\n",
              "    <tspan class=\"displacy-word\" fill=\"currentColor\" x=\"700\">aime</tspan>\n",
              "    <tspan class=\"displacy-tag\" dy=\"2em\" fill=\"currentColor\" x=\"700\">VERB</tspan>\n",
              "</text>\n",
              "\n",
              "<text class=\"displacy-token\" fill=\"currentColor\" text-anchor=\"middle\" y=\"372.0\">\n",
              "    <tspan class=\"displacy-word\" fill=\"currentColor\" x=\"830\">le</tspan>\n",
              "    <tspan class=\"displacy-tag\" dy=\"2em\" fill=\"currentColor\" x=\"830\">DET</tspan>\n",
              "</text>\n",
              "\n",
              "<text class=\"displacy-token\" fill=\"currentColor\" text-anchor=\"middle\" y=\"372.0\">\n",
              "    <tspan class=\"displacy-word\" fill=\"currentColor\" x=\"960\">poulet</tspan>\n",
              "    <tspan class=\"displacy-tag\" dy=\"2em\" fill=\"currentColor\" x=\"960\">NOUN</tspan>\n",
              "</text>\n",
              "\n",
              "<text class=\"displacy-token\" fill=\"currentColor\" text-anchor=\"middle\" y=\"372.0\">\n",
              "    <tspan class=\"displacy-word\" fill=\"currentColor\" x=\"1090\">aux</tspan>\n",
              "    <tspan class=\"displacy-tag\" dy=\"2em\" fill=\"currentColor\" x=\"1090\">ADJ</tspan>\n",
              "</text>\n",
              "\n",
              "<text class=\"displacy-token\" fill=\"currentColor\" text-anchor=\"middle\" y=\"372.0\">\n",
              "    <tspan class=\"displacy-word\" fill=\"currentColor\" x=\"1220\">oignons</tspan>\n",
              "    <tspan class=\"displacy-tag\" dy=\"2em\" fill=\"currentColor\" x=\"1220\">NOUN</tspan>\n",
              "</text>\n",
              "\n",
              "<text class=\"displacy-token\" fill=\"currentColor\" text-anchor=\"middle\" y=\"372.0\">\n",
              "    <tspan class=\"displacy-word\" fill=\"currentColor\" x=\"1350\">à</tspan>\n",
              "    <tspan class=\"displacy-tag\" dy=\"2em\" fill=\"currentColor\" x=\"1350\">ADP</tspan>\n",
              "</text>\n",
              "\n",
              "<text class=\"displacy-token\" fill=\"currentColor\" text-anchor=\"middle\" y=\"372.0\">\n",
              "    <tspan class=\"displacy-word\" fill=\"currentColor\" x=\"1480\">Paris</tspan>\n",
              "    <tspan class=\"displacy-tag\" dy=\"2em\" fill=\"currentColor\" x=\"1480\">PROPN</tspan>\n",
              "</text>\n",
              "\n",
              "<text class=\"displacy-token\" fill=\"currentColor\" text-anchor=\"middle\" y=\"372.0\">\n",
              "    <tspan class=\"displacy-word\" fill=\"currentColor\" x=\"1610\">dans</tspan>\n",
              "    <tspan class=\"displacy-tag\" dy=\"2em\" fill=\"currentColor\" x=\"1610\">ADP</tspan>\n",
              "</text>\n",
              "\n",
              "<text class=\"displacy-token\" fill=\"currentColor\" text-anchor=\"middle\" y=\"372.0\">\n",
              "    <tspan class=\"displacy-word\" fill=\"currentColor\" x=\"1740\">une</tspan>\n",
              "    <tspan class=\"displacy-tag\" dy=\"2em\" fill=\"currentColor\" x=\"1740\">DET</tspan>\n",
              "</text>\n",
              "\n",
              "<text class=\"displacy-token\" fill=\"currentColor\" text-anchor=\"middle\" y=\"372.0\">\n",
              "    <tspan class=\"displacy-word\" fill=\"currentColor\" x=\"1870\">rivière</tspan>\n",
              "    <tspan class=\"displacy-tag\" dy=\"2em\" fill=\"currentColor\" x=\"1870\">NOUN</tspan>\n",
              "</text>\n",
              "\n",
              "<text class=\"displacy-token\" fill=\"currentColor\" text-anchor=\"middle\" y=\"372.0\">\n",
              "    <tspan class=\"displacy-word\" fill=\"currentColor\" x=\"2000\">que</tspan>\n",
              "    <tspan class=\"displacy-tag\" dy=\"2em\" fill=\"currentColor\" x=\"2000\">SCONJ</tspan>\n",
              "</text>\n",
              "\n",
              "<text class=\"displacy-token\" fill=\"currentColor\" text-anchor=\"middle\" y=\"372.0\">\n",
              "    <tspan class=\"displacy-word\" fill=\"currentColor\" x=\"2130\">j'</tspan>\n",
              "    <tspan class=\"displacy-tag\" dy=\"2em\" fill=\"currentColor\" x=\"2130\">PRON</tspan>\n",
              "</text>\n",
              "\n",
              "<text class=\"displacy-token\" fill=\"currentColor\" text-anchor=\"middle\" y=\"372.0\">\n",
              "    <tspan class=\"displacy-word\" fill=\"currentColor\" x=\"2260\">aime ,</tspan>\n",
              "    <tspan class=\"displacy-tag\" dy=\"2em\" fill=\"currentColor\" x=\"2260\">VERB</tspan>\n",
              "</text>\n",
              "\n",
              "<text class=\"displacy-token\" fill=\"currentColor\" text-anchor=\"middle\" y=\"372.0\">\n",
              "    <tspan class=\"displacy-word\" fill=\"currentColor\" x=\"2390\">près</tspan>\n",
              "    <tspan class=\"displacy-tag\" dy=\"2em\" fill=\"currentColor\" x=\"2390\">ADP</tspan>\n",
              "</text>\n",
              "\n",
              "<text class=\"displacy-token\" fill=\"currentColor\" text-anchor=\"middle\" y=\"372.0\">\n",
              "    <tspan class=\"displacy-word\" fill=\"currentColor\" x=\"2520\">de</tspan>\n",
              "    <tspan class=\"displacy-tag\" dy=\"2em\" fill=\"currentColor\" x=\"2520\">ADP</tspan>\n",
              "</text>\n",
              "\n",
              "<text class=\"displacy-token\" fill=\"currentColor\" text-anchor=\"middle\" y=\"372.0\">\n",
              "    <tspan class=\"displacy-word\" fill=\"currentColor\" x=\"2650\">la</tspan>\n",
              "    <tspan class=\"displacy-tag\" dy=\"2em\" fill=\"currentColor\" x=\"2650\">DET</tspan>\n",
              "</text>\n",
              "\n",
              "<text class=\"displacy-token\" fill=\"currentColor\" text-anchor=\"middle\" y=\"372.0\">\n",
              "    <tspan class=\"displacy-word\" fill=\"currentColor\" x=\"2780\">Mairie</tspan>\n",
              "    <tspan class=\"displacy-tag\" dy=\"2em\" fill=\"currentColor\" x=\"2780\">NOUN</tspan>\n",
              "</text>\n",
              "\n",
              "<g class=\"displacy-arrow\">\n",
              "    <path class=\"displacy-arc\" id=\"arrow-22e22f2352fd4cd0b9640d21a806c17b-0-0\" stroke-width=\"2px\" d=\"M70,327.0 C70,262.0 160.0,262.0 160.0,327.0\" fill=\"none\" stroke=\"currentColor\"/>\n",
              "    <text dy=\"1.25em\" style=\"font-size: 0.8em; letter-spacing: 1px\">\n",
              "        <textPath xlink:href=\"#arrow-22e22f2352fd4cd0b9640d21a806c17b-0-0\" class=\"displacy-label\" startOffset=\"50%\" side=\"left\" fill=\"currentColor\" text-anchor=\"middle\"></textPath>\n",
              "    </text>\n",
              "    <path class=\"displacy-arrowhead\" d=\"M70,329.0 L62,317.0 78,317.0\" fill=\"currentColor\"/>\n",
              "</g>\n",
              "\n",
              "<g class=\"displacy-arrow\">\n",
              "    <path class=\"displacy-arc\" id=\"arrow-22e22f2352fd4cd0b9640d21a806c17b-0-1\" stroke-width=\"2px\" d=\"M200,327.0 C200,197.0 425.0,197.0 425.0,327.0\" fill=\"none\" stroke=\"currentColor\"/>\n",
              "    <text dy=\"1.25em\" style=\"font-size: 0.8em; letter-spacing: 1px\">\n",
              "        <textPath xlink:href=\"#arrow-22e22f2352fd4cd0b9640d21a806c17b-0-1\" class=\"displacy-label\" startOffset=\"50%\" side=\"left\" fill=\"currentColor\" text-anchor=\"middle\">nsubj</textPath>\n",
              "    </text>\n",
              "    <path class=\"displacy-arrowhead\" d=\"M200,329.0 L192,317.0 208,317.0\" fill=\"currentColor\"/>\n",
              "</g>\n",
              "\n",
              "<g class=\"displacy-arrow\">\n",
              "    <path class=\"displacy-arc\" id=\"arrow-22e22f2352fd4cd0b9640d21a806c17b-0-2\" stroke-width=\"2px\" d=\"M330,327.0 C330,262.0 420.0,262.0 420.0,327.0\" fill=\"none\" stroke=\"currentColor\"/>\n",
              "    <text dy=\"1.25em\" style=\"font-size: 0.8em; letter-spacing: 1px\">\n",
              "        <textPath xlink:href=\"#arrow-22e22f2352fd4cd0b9640d21a806c17b-0-2\" class=\"displacy-label\" startOffset=\"50%\" side=\"left\" fill=\"currentColor\" text-anchor=\"middle\">cop</textPath>\n",
              "    </text>\n",
              "    <path class=\"displacy-arrowhead\" d=\"M330,329.0 L322,317.0 338,317.0\" fill=\"currentColor\"/>\n",
              "</g>\n",
              "\n",
              "<g class=\"displacy-arrow\">\n",
              "    <path class=\"displacy-arc\" id=\"arrow-22e22f2352fd4cd0b9640d21a806c17b-0-3\" stroke-width=\"2px\" d=\"M590,327.0 C590,262.0 680.0,262.0 680.0,327.0\" fill=\"none\" stroke=\"currentColor\"/>\n",
              "    <text dy=\"1.25em\" style=\"font-size: 0.8em; letter-spacing: 1px\">\n",
              "        <textPath xlink:href=\"#arrow-22e22f2352fd4cd0b9640d21a806c17b-0-3\" class=\"displacy-label\" startOffset=\"50%\" side=\"left\" fill=\"currentColor\" text-anchor=\"middle\">nsubj</textPath>\n",
              "    </text>\n",
              "    <path class=\"displacy-arrowhead\" d=\"M590,329.0 L582,317.0 598,317.0\" fill=\"currentColor\"/>\n",
              "</g>\n",
              "\n",
              "<g class=\"displacy-arrow\">\n",
              "    <path class=\"displacy-arc\" id=\"arrow-22e22f2352fd4cd0b9640d21a806c17b-0-4\" stroke-width=\"2px\" d=\"M460,327.0 C460,197.0 685.0,197.0 685.0,327.0\" fill=\"none\" stroke=\"currentColor\"/>\n",
              "    <text dy=\"1.25em\" style=\"font-size: 0.8em; letter-spacing: 1px\">\n",
              "        <textPath xlink:href=\"#arrow-22e22f2352fd4cd0b9640d21a806c17b-0-4\" class=\"displacy-label\" startOffset=\"50%\" side=\"left\" fill=\"currentColor\" text-anchor=\"middle\">parataxis</textPath>\n",
              "    </text>\n",
              "    <path class=\"displacy-arrowhead\" d=\"M685.0,329.0 L693.0,317.0 677.0,317.0\" fill=\"currentColor\"/>\n",
              "</g>\n",
              "\n",
              "<g class=\"displacy-arrow\">\n",
              "    <path class=\"displacy-arc\" id=\"arrow-22e22f2352fd4cd0b9640d21a806c17b-0-5\" stroke-width=\"2px\" d=\"M850,327.0 C850,262.0 940.0,262.0 940.0,327.0\" fill=\"none\" stroke=\"currentColor\"/>\n",
              "    <text dy=\"1.25em\" style=\"font-size: 0.8em; letter-spacing: 1px\">\n",
              "        <textPath xlink:href=\"#arrow-22e22f2352fd4cd0b9640d21a806c17b-0-5\" class=\"displacy-label\" startOffset=\"50%\" side=\"left\" fill=\"currentColor\" text-anchor=\"middle\">det</textPath>\n",
              "    </text>\n",
              "    <path class=\"displacy-arrowhead\" d=\"M850,329.0 L842,317.0 858,317.0\" fill=\"currentColor\"/>\n",
              "</g>\n",
              "\n",
              "<g class=\"displacy-arrow\">\n",
              "    <path class=\"displacy-arc\" id=\"arrow-22e22f2352fd4cd0b9640d21a806c17b-0-6\" stroke-width=\"2px\" d=\"M720,327.0 C720,197.0 945.0,197.0 945.0,327.0\" fill=\"none\" stroke=\"currentColor\"/>\n",
              "    <text dy=\"1.25em\" style=\"font-size: 0.8em; letter-spacing: 1px\">\n",
              "        <textPath xlink:href=\"#arrow-22e22f2352fd4cd0b9640d21a806c17b-0-6\" class=\"displacy-label\" startOffset=\"50%\" side=\"left\" fill=\"currentColor\" text-anchor=\"middle\">obj</textPath>\n",
              "    </text>\n",
              "    <path class=\"displacy-arrowhead\" d=\"M945.0,329.0 L953.0,317.0 937.0,317.0\" fill=\"currentColor\"/>\n",
              "</g>\n",
              "\n",
              "<g class=\"displacy-arrow\">\n",
              "    <path class=\"displacy-arc\" id=\"arrow-22e22f2352fd4cd0b9640d21a806c17b-0-7\" stroke-width=\"2px\" d=\"M980,327.0 C980,262.0 1070.0,262.0 1070.0,327.0\" fill=\"none\" stroke=\"currentColor\"/>\n",
              "    <text dy=\"1.25em\" style=\"font-size: 0.8em; letter-spacing: 1px\">\n",
              "        <textPath xlink:href=\"#arrow-22e22f2352fd4cd0b9640d21a806c17b-0-7\" class=\"displacy-label\" startOffset=\"50%\" side=\"left\" fill=\"currentColor\" text-anchor=\"middle\">amod</textPath>\n",
              "    </text>\n",
              "    <path class=\"displacy-arrowhead\" d=\"M1070.0,329.0 L1078.0,317.0 1062.0,317.0\" fill=\"currentColor\"/>\n",
              "</g>\n",
              "\n",
              "<g class=\"displacy-arrow\">\n",
              "    <path class=\"displacy-arc\" id=\"arrow-22e22f2352fd4cd0b9640d21a806c17b-0-8\" stroke-width=\"2px\" d=\"M980,327.0 C980,197.0 1205.0,197.0 1205.0,327.0\" fill=\"none\" stroke=\"currentColor\"/>\n",
              "    <text dy=\"1.25em\" style=\"font-size: 0.8em; letter-spacing: 1px\">\n",
              "        <textPath xlink:href=\"#arrow-22e22f2352fd4cd0b9640d21a806c17b-0-8\" class=\"displacy-label\" startOffset=\"50%\" side=\"left\" fill=\"currentColor\" text-anchor=\"middle\">nmod</textPath>\n",
              "    </text>\n",
              "    <path class=\"displacy-arrowhead\" d=\"M1205.0,329.0 L1213.0,317.0 1197.0,317.0\" fill=\"currentColor\"/>\n",
              "</g>\n",
              "\n",
              "<g class=\"displacy-arrow\">\n",
              "    <path class=\"displacy-arc\" id=\"arrow-22e22f2352fd4cd0b9640d21a806c17b-0-9\" stroke-width=\"2px\" d=\"M1370,327.0 C1370,262.0 1460.0,262.0 1460.0,327.0\" fill=\"none\" stroke=\"currentColor\"/>\n",
              "    <text dy=\"1.25em\" style=\"font-size: 0.8em; letter-spacing: 1px\">\n",
              "        <textPath xlink:href=\"#arrow-22e22f2352fd4cd0b9640d21a806c17b-0-9\" class=\"displacy-label\" startOffset=\"50%\" side=\"left\" fill=\"currentColor\" text-anchor=\"middle\">case</textPath>\n",
              "    </text>\n",
              "    <path class=\"displacy-arrowhead\" d=\"M1370,329.0 L1362,317.0 1378,317.0\" fill=\"currentColor\"/>\n",
              "</g>\n",
              "\n",
              "<g class=\"displacy-arrow\">\n",
              "    <path class=\"displacy-arc\" id=\"arrow-22e22f2352fd4cd0b9640d21a806c17b-0-10\" stroke-width=\"2px\" d=\"M1240,327.0 C1240,197.0 1465.0,197.0 1465.0,327.0\" fill=\"none\" stroke=\"currentColor\"/>\n",
              "    <text dy=\"1.25em\" style=\"font-size: 0.8em; letter-spacing: 1px\">\n",
              "        <textPath xlink:href=\"#arrow-22e22f2352fd4cd0b9640d21a806c17b-0-10\" class=\"displacy-label\" startOffset=\"50%\" side=\"left\" fill=\"currentColor\" text-anchor=\"middle\">obl</textPath>\n",
              "    </text>\n",
              "    <path class=\"displacy-arrowhead\" d=\"M1465.0,329.0 L1473.0,317.0 1457.0,317.0\" fill=\"currentColor\"/>\n",
              "</g>\n",
              "\n",
              "<g class=\"displacy-arrow\">\n",
              "    <path class=\"displacy-arc\" id=\"arrow-22e22f2352fd4cd0b9640d21a806c17b-0-11\" stroke-width=\"2px\" d=\"M1630,327.0 C1630,197.0 1855.0,197.0 1855.0,327.0\" fill=\"none\" stroke=\"currentColor\"/>\n",
              "    <text dy=\"1.25em\" style=\"font-size: 0.8em; letter-spacing: 1px\">\n",
              "        <textPath xlink:href=\"#arrow-22e22f2352fd4cd0b9640d21a806c17b-0-11\" class=\"displacy-label\" startOffset=\"50%\" side=\"left\" fill=\"currentColor\" text-anchor=\"middle\">case</textPath>\n",
              "    </text>\n",
              "    <path class=\"displacy-arrowhead\" d=\"M1630,329.0 L1622,317.0 1638,317.0\" fill=\"currentColor\"/>\n",
              "</g>\n",
              "\n",
              "<g class=\"displacy-arrow\">\n",
              "    <path class=\"displacy-arc\" id=\"arrow-22e22f2352fd4cd0b9640d21a806c17b-0-12\" stroke-width=\"2px\" d=\"M1760,327.0 C1760,262.0 1850.0,262.0 1850.0,327.0\" fill=\"none\" stroke=\"currentColor\"/>\n",
              "    <text dy=\"1.25em\" style=\"font-size: 0.8em; letter-spacing: 1px\">\n",
              "        <textPath xlink:href=\"#arrow-22e22f2352fd4cd0b9640d21a806c17b-0-12\" class=\"displacy-label\" startOffset=\"50%\" side=\"left\" fill=\"currentColor\" text-anchor=\"middle\">det</textPath>\n",
              "    </text>\n",
              "    <path class=\"displacy-arrowhead\" d=\"M1760,329.0 L1752,317.0 1768,317.0\" fill=\"currentColor\"/>\n",
              "</g>\n",
              "\n",
              "<g class=\"displacy-arrow\">\n",
              "    <path class=\"displacy-arc\" id=\"arrow-22e22f2352fd4cd0b9640d21a806c17b-0-13\" stroke-width=\"2px\" d=\"M720,327.0 C720,2.0 1870.0,2.0 1870.0,327.0\" fill=\"none\" stroke=\"currentColor\"/>\n",
              "    <text dy=\"1.25em\" style=\"font-size: 0.8em; letter-spacing: 1px\">\n",
              "        <textPath xlink:href=\"#arrow-22e22f2352fd4cd0b9640d21a806c17b-0-13\" class=\"displacy-label\" startOffset=\"50%\" side=\"left\" fill=\"currentColor\" text-anchor=\"middle\">obl</textPath>\n",
              "    </text>\n",
              "    <path class=\"displacy-arrowhead\" d=\"M1870.0,329.0 L1878.0,317.0 1862.0,317.0\" fill=\"currentColor\"/>\n",
              "</g>\n",
              "\n",
              "<g class=\"displacy-arrow\">\n",
              "    <path class=\"displacy-arc\" id=\"arrow-22e22f2352fd4cd0b9640d21a806c17b-0-14\" stroke-width=\"2px\" d=\"M2020,327.0 C2020,197.0 2245.0,197.0 2245.0,327.0\" fill=\"none\" stroke=\"currentColor\"/>\n",
              "    <text dy=\"1.25em\" style=\"font-size: 0.8em; letter-spacing: 1px\">\n",
              "        <textPath xlink:href=\"#arrow-22e22f2352fd4cd0b9640d21a806c17b-0-14\" class=\"displacy-label\" startOffset=\"50%\" side=\"left\" fill=\"currentColor\" text-anchor=\"middle\">obj</textPath>\n",
              "    </text>\n",
              "    <path class=\"displacy-arrowhead\" d=\"M2020,329.0 L2012,317.0 2028,317.0\" fill=\"currentColor\"/>\n",
              "</g>\n",
              "\n",
              "<g class=\"displacy-arrow\">\n",
              "    <path class=\"displacy-arc\" id=\"arrow-22e22f2352fd4cd0b9640d21a806c17b-0-15\" stroke-width=\"2px\" d=\"M2150,327.0 C2150,262.0 2240.0,262.0 2240.0,327.0\" fill=\"none\" stroke=\"currentColor\"/>\n",
              "    <text dy=\"1.25em\" style=\"font-size: 0.8em; letter-spacing: 1px\">\n",
              "        <textPath xlink:href=\"#arrow-22e22f2352fd4cd0b9640d21a806c17b-0-15\" class=\"displacy-label\" startOffset=\"50%\" side=\"left\" fill=\"currentColor\" text-anchor=\"middle\">nsubj</textPath>\n",
              "    </text>\n",
              "    <path class=\"displacy-arrowhead\" d=\"M2150,329.0 L2142,317.0 2158,317.0\" fill=\"currentColor\"/>\n",
              "</g>\n",
              "\n",
              "<g class=\"displacy-arrow\">\n",
              "    <path class=\"displacy-arc\" id=\"arrow-22e22f2352fd4cd0b9640d21a806c17b-0-16\" stroke-width=\"2px\" d=\"M1890,327.0 C1890,132.0 2250.0,132.0 2250.0,327.0\" fill=\"none\" stroke=\"currentColor\"/>\n",
              "    <text dy=\"1.25em\" style=\"font-size: 0.8em; letter-spacing: 1px\">\n",
              "        <textPath xlink:href=\"#arrow-22e22f2352fd4cd0b9640d21a806c17b-0-16\" class=\"displacy-label\" startOffset=\"50%\" side=\"left\" fill=\"currentColor\" text-anchor=\"middle\">acl:relcl</textPath>\n",
              "    </text>\n",
              "    <path class=\"displacy-arrowhead\" d=\"M2250.0,329.0 L2258.0,317.0 2242.0,317.0\" fill=\"currentColor\"/>\n",
              "</g>\n",
              "\n",
              "<g class=\"displacy-arrow\">\n",
              "    <path class=\"displacy-arc\" id=\"arrow-22e22f2352fd4cd0b9640d21a806c17b-0-17\" stroke-width=\"2px\" d=\"M2410,327.0 C2410,132.0 2770.0,132.0 2770.0,327.0\" fill=\"none\" stroke=\"currentColor\"/>\n",
              "    <text dy=\"1.25em\" style=\"font-size: 0.8em; letter-spacing: 1px\">\n",
              "        <textPath xlink:href=\"#arrow-22e22f2352fd4cd0b9640d21a806c17b-0-17\" class=\"displacy-label\" startOffset=\"50%\" side=\"left\" fill=\"currentColor\" text-anchor=\"middle\">case</textPath>\n",
              "    </text>\n",
              "    <path class=\"displacy-arrowhead\" d=\"M2410,329.0 L2402,317.0 2418,317.0\" fill=\"currentColor\"/>\n",
              "</g>\n",
              "\n",
              "<g class=\"displacy-arrow\">\n",
              "    <path class=\"displacy-arc\" id=\"arrow-22e22f2352fd4cd0b9640d21a806c17b-0-18\" stroke-width=\"2px\" d=\"M2410,327.0 C2410,262.0 2500.0,262.0 2500.0,327.0\" fill=\"none\" stroke=\"currentColor\"/>\n",
              "    <text dy=\"1.25em\" style=\"font-size: 0.8em; letter-spacing: 1px\">\n",
              "        <textPath xlink:href=\"#arrow-22e22f2352fd4cd0b9640d21a806c17b-0-18\" class=\"displacy-label\" startOffset=\"50%\" side=\"left\" fill=\"currentColor\" text-anchor=\"middle\">fixed</textPath>\n",
              "    </text>\n",
              "    <path class=\"displacy-arrowhead\" d=\"M2500.0,329.0 L2508.0,317.0 2492.0,317.0\" fill=\"currentColor\"/>\n",
              "</g>\n",
              "\n",
              "<g class=\"displacy-arrow\">\n",
              "    <path class=\"displacy-arc\" id=\"arrow-22e22f2352fd4cd0b9640d21a806c17b-0-19\" stroke-width=\"2px\" d=\"M2670,327.0 C2670,262.0 2760.0,262.0 2760.0,327.0\" fill=\"none\" stroke=\"currentColor\"/>\n",
              "    <text dy=\"1.25em\" style=\"font-size: 0.8em; letter-spacing: 1px\">\n",
              "        <textPath xlink:href=\"#arrow-22e22f2352fd4cd0b9640d21a806c17b-0-19\" class=\"displacy-label\" startOffset=\"50%\" side=\"left\" fill=\"currentColor\" text-anchor=\"middle\">det</textPath>\n",
              "    </text>\n",
              "    <path class=\"displacy-arrowhead\" d=\"M2670,329.0 L2662,317.0 2678,317.0\" fill=\"currentColor\"/>\n",
              "</g>\n",
              "\n",
              "<g class=\"displacy-arrow\">\n",
              "    <path class=\"displacy-arc\" id=\"arrow-22e22f2352fd4cd0b9640d21a806c17b-0-20\" stroke-width=\"2px\" d=\"M2280,327.0 C2280,67.0 2775.0,67.0 2775.0,327.0\" fill=\"none\" stroke=\"currentColor\"/>\n",
              "    <text dy=\"1.25em\" style=\"font-size: 0.8em; letter-spacing: 1px\">\n",
              "        <textPath xlink:href=\"#arrow-22e22f2352fd4cd0b9640d21a806c17b-0-20\" class=\"displacy-label\" startOffset=\"50%\" side=\"left\" fill=\"currentColor\" text-anchor=\"middle\">obl</textPath>\n",
              "    </text>\n",
              "    <path class=\"displacy-arrowhead\" d=\"M2775.0,329.0 L2783.0,317.0 2767.0,317.0\" fill=\"currentColor\"/>\n",
              "</g>\n",
              "</svg></span>"
            ],
            "text/plain": [
              "<IPython.core.display.HTML object>"
            ]
          },
          "metadata": {
            "tags": []
          }
        }
      ]
    },
    {
      "cell_type": "markdown",
      "metadata": {
        "id": "EoBog1Xd_zf3",
        "colab_type": "text"
      },
      "source": [
        "# Concatenation des réponses "
      ]
    },
    {
      "cell_type": "code",
      "metadata": {
        "id": "n969oPw66XxQ",
        "colab_type": "code",
        "colab": {}
      },
      "source": [
        "Question = df.columns[3:]\n",
        "Titre = df.columns[1]  \n",
        "Zipcode=df.columns[2]\n",
        "df_question = df[Question].replace('//',np.nan)"
      ],
      "execution_count": 0,
      "outputs": []
    },
    {
      "cell_type": "code",
      "metadata": {
        "id": "RPwQ2lyxIBJJ",
        "colab_type": "code",
        "colab": {}
      },
      "source": [
        "def cleanse_talk(): \n",
        "    talk=[]\n",
        "    for i in range(df.shape[0]): \n",
        "        tmp_df = df_question.iloc[i].dropna().values\n",
        "        try :  \n",
        "            tmp_val=''\n",
        "            for char in tmp_df: \n",
        "                charstr=str(char) \n",
        "                if charstr[-1] != '.':\n",
        "                    tmp_val += charstr +'. ' \n",
        "                else : \n",
        "                    tmp_val +=  charstr + ' '\n",
        "            talk.append(tmp_val)\n",
        "        except :  \n",
        "            talk.append('None') \n",
        "    return talk \n"
      ],
      "execution_count": 0,
      "outputs": []
    },
    {
      "cell_type": "code",
      "metadata": {
        "id": "Aj_VZFa3HkuP",
        "colab_type": "code",
        "colab": {}
      },
      "source": [
        "data_list=cleanse_talk()"
      ],
      "execution_count": 0,
      "outputs": []
    },
    {
      "cell_type": "code",
      "metadata": {
        "id": "-vwWxRcJHkpp",
        "colab_type": "code",
        "colab": {}
      },
      "source": [
        ""
      ],
      "execution_count": 0,
      "outputs": []
    },
    {
      "cell_type": "code",
      "metadata": {
        "id": "uIf9BfErE3G9",
        "colab_type": "code",
        "outputId": "37ff0ecd-300d-4a37-e406-ae3e15048c8f",
        "colab": {
          "base_uri": "https://localhost:8080/",
          "height": 68
        }
      },
      "source": [
        "for token in nlp('je suis attirante'):\n",
        "    print(\"{0}/{1} <--{2}-- {3}/{4}\".format(\n",
        "\n",
        "                                        token.text,\n",
        "                                        token.tag_,\n",
        "\n",
        "                                        token.dep_,\n",
        "\n",
        "                                        token.head.text,\n",
        "\n",
        "                                        token.head.tag_))"
      ],
      "execution_count": 13,
      "outputs": [
        {
          "output_type": "stream",
          "text": [
            "je/PRON__Number=Sing|Person=1 <--nsubj-- attirante/ADJ__Gender=Fem|Number=Sing\n",
            "suis/AUX__Mood=Ind|Number=Sing|Person=1|Tense=Pres|VerbForm=Fin <--cop-- attirante/ADJ__Gender=Fem|Number=Sing\n",
            "attirante/ADJ__Gender=Fem|Number=Sing <--ROOT-- attirante/ADJ__Gender=Fem|Number=Sing\n"
          ],
          "name": "stdout"
        }
      ]
    },
    {
      "cell_type": "code",
      "metadata": {
        "id": "GxH-zmBaNzSy",
        "colab_type": "code",
        "outputId": "a8d1b2d4-3162-43df-c75b-d9bc77b638e0",
        "colab": {
          "base_uri": "https://localhost:8080/",
          "height": 34
        }
      },
      "source": [
        "nlp(\"je suis bon\")[0].head.tag_"
      ],
      "execution_count": 14,
      "outputs": [
        {
          "output_type": "execute_result",
          "data": {
            "text/plain": [
              "'ADJ__Gender=Masc|Number=Sing'"
            ]
          },
          "metadata": {
            "tags": []
          },
          "execution_count": 14
        }
      ]
    },
    {
      "cell_type": "code",
      "metadata": {
        "id": "XbCbopNKPUTI",
        "colab_type": "code",
        "colab": {}
      },
      "source": [
        " def gender_finder(i,data_list):\n",
        "    maxima = len(data_list) \n",
        "    try : \n",
        "        test_on_one = data_list[i] \n",
        "        doc_on_one = nlp(test_on_one) \n",
        "    except : \n",
        "        raise ValueError(f' index value must be < {maxima} ')\n",
        "    gender= 'None' \n",
        "    testat = 'None'\n",
        "    for token in doc_on_one : \n",
        "        if 'PRON__Number=Sing' in token.tag_ : \n",
        "            if 'ADJ__Gender=Fem' in token.head.tag_: \n",
        "                gender = 'Female'  \n",
        "                testat=token.dep_\n",
        "                break \n",
        "            elif 'ADJ__Gender=Masc' in token.head.tag_: \n",
        "                gender = 'Male' \n",
        "                testat=token.dep_\n",
        "                break \n",
        "            else :  \n",
        "                None \n",
        "\n",
        "    return gender"
      ],
      "execution_count": 0,
      "outputs": []
    },
    {
      "cell_type": "code",
      "metadata": {
        "id": "eSDbqVSERaJK",
        "colab_type": "code",
        "colab": {}
      },
      "source": [
        "import multiprocessing"
      ],
      "execution_count": 0,
      "outputs": []
    },
    {
      "cell_type": "code",
      "metadata": {
        "id": "wbmjze_LDtGR",
        "colab_type": "code",
        "colab": {}
      },
      "source": [
        "def gender_parallel(start,stop): \n",
        "    for val in range(start,stop) :    \n",
        "        Dict[val] = gender_finder(val,data_list)"
      ],
      "execution_count": 0,
      "outputs": []
    },
    {
      "cell_type": "code",
      "metadata": {
        "id": "lFOgDgP7RauG",
        "colab_type": "code",
        "colab": {}
      },
      "source": [
        "def Create_process_gender(core : int = multiprocessing.cpu_count() ) -> list : \n",
        "    manager = multiprocessing.Manager()\n",
        "    global Dict \n",
        "    Dict = manager.dict() \n",
        "    \n",
        "    process_list=[]\n",
        "    size = len(data_list) // core \n",
        "    step = core \n",
        "    for i in range(core): \n",
        "        if i != core :\n",
        "            proc=multiprocessing.Process(target=gender_parallel, args=(int(size*i),int(size*(i+1))))  \n",
        "        else : \n",
        "            proc=multiprocessing.Process(target=gender_parallel, args=(int(size*i),len(data_list)-1))    \n",
        "\n",
        "        process_list.append(proc)  \n",
        "    \n",
        "    return process_list"
      ],
      "execution_count": 0,
      "outputs": []
    },
    {
      "cell_type": "code",
      "metadata": {
        "id": "35JwRsfqEeG8",
        "colab_type": "code",
        "colab": {}
      },
      "source": [
        " def entity_finder(i,data_list):\n",
        "    descriptor_entity=set([])\n",
        "    maxima = len(data_list) \n",
        "    try : \n",
        "        test_on_one = data_list[i] \n",
        "        doc_on_one = nlp(test_on_one) \n",
        "    except : \n",
        "        raise ValueError(f' index value must be < {maxima} ')\n",
        "    entity = doc_on_one.ents  \n",
        "    for i in entity : \n",
        "        if len(i.text)> 2 : \n",
        "            if i.label_ != 'MISC':\n",
        "                descriptor_entity.add((i.text,i.label_))\n",
        "\n",
        "    return descriptor_entity"
      ],
      "execution_count": 0,
      "outputs": []
    },
    {
      "cell_type": "code",
      "metadata": {
        "id": "BHY6M0GUZA4P",
        "colab_type": "code",
        "colab": {}
      },
      "source": [
        "def parallel_entity (start,stop): \n",
        "    for  i in range(start,stop): \n",
        "       Dict_entity[i] = list(entity_finder(i,data_list))  \n"
      ],
      "execution_count": 0,
      "outputs": []
    },
    {
      "cell_type": "code",
      "metadata": {
        "id": "lbuCR6uBFrjJ",
        "colab_type": "code",
        "colab": {}
      },
      "source": [
        "def Create_process_entity(core : int = multiprocessing.cpu_count() ) -> list : \n",
        "    manager = multiprocessing.Manager()\n",
        "    global Dict_entity\n",
        "    Dict_entity = manager.dict() \n",
        "    \n",
        "    process_list=[]\n",
        "    size = len(data_list) // core \n",
        "    step = core \n",
        "    for i in range(core): \n",
        "        if i != core :\n",
        "            proc=multiprocessing.Process(target=parallel_entity, args=(int(size*i),int(size*(i+1))))  \n",
        "        else : \n",
        "            proc=multiprocessing.Process(target=parallel_entity, args=(int(size*i),len(data_list)))    \n",
        "\n",
        "        process_list.append(proc)  \n",
        "    \n",
        "    return process_list"
      ],
      "execution_count": 0,
      "outputs": []
    },
    {
      "cell_type": "code",
      "metadata": {
        "id": "C1PY182DWEXm",
        "colab_type": "code",
        "colab": {}
      },
      "source": [
        "Entity_process = Create_process_entity()\n",
        "for proc in Entity_process: \n",
        "    proc.start()"
      ],
      "execution_count": 0,
      "outputs": []
    },
    {
      "cell_type": "code",
      "metadata": {
        "id": "F00g3r6jWEM2",
        "colab_type": "code",
        "colab": {}
      },
      "source": [
        "def Checking_process():\n",
        "    for proc in Entity_process:  \n",
        "        alive = 'is dead'  \n",
        "        if proc.is_alive() == True : \n",
        "            alive= 'is alive'\n",
        "\n",
        "        print(f'{proc.name}  {alive}') \n",
        "\n",
        "    first = len(Dict_entity) \n",
        "    time.sleep(1) \n",
        "    vitesse=(len(Dict_entity)-first)\n",
        "    print(f'{vitesse} corpus traité par seconde ' ) \n",
        "    print(f'avancement = {(len(Dict_entity) / len(data_list))*100 } %')"
      ],
      "execution_count": 0,
      "outputs": []
    },
    {
      "cell_type": "code",
      "metadata": {
        "id": "jKG8BVaoW8uz",
        "colab_type": "code",
        "colab": {}
      },
      "source": [
        "ENTITY= pd.DataFrame(Dict_entity.items(),columns=['num','tupl']).set_index('num')"
      ],
      "execution_count": 0,
      "outputs": []
    },
    {
      "cell_type": "code",
      "metadata": {
        "id": "-2RQ8e3Zzv9V",
        "colab_type": "code",
        "colab": {}
      },
      "source": [
        "vector_e=ENTITY.sort_index().values\n",
        "entity_list=[]\n",
        "for i in vector_e : \n",
        "    entity_list += i[0]"
      ],
      "execution_count": 0,
      "outputs": []
    },
    {
      "cell_type": "code",
      "metadata": {
        "id": "U_noHucCzv16",
        "colab_type": "code",
        "colab": {}
      },
      "source": [
        "container = list(zip(*entity_list))"
      ],
      "execution_count": 0,
      "outputs": []
    },
    {
      "cell_type": "code",
      "metadata": {
        "id": "tSOkivPh12MK",
        "colab_type": "code",
        "colab": {}
      },
      "source": [
        "from collections import Counter"
      ],
      "execution_count": 0,
      "outputs": []
    },
    {
      "cell_type": "code",
      "metadata": {
        "id": "v9tAw53W2a6k",
        "colab_type": "code",
        "colab": {}
      },
      "source": [
        "entity_count= Counter(container[0])"
      ],
      "execution_count": 0,
      "outputs": []
    },
    {
      "cell_type": "code",
      "metadata": {
        "id": "oGC73s6A2a4H",
        "colab_type": "code",
        "colab": {}
      },
      "source": [
        "data_entité = list(zip(*entity_count.most_common()))"
      ],
      "execution_count": 0,
      "outputs": []
    },
    {
      "cell_type": "code",
      "metadata": {
        "id": "w4Ea9Jhm5qut",
        "colab_type": "code",
        "colab": {}
      },
      "source": [
        "data_final_NER = pd.DataFrame() \n",
        "data_final_NER['entité']=data_entité[0]\n",
        "data_final_NER['freq']=data_entité[1]"
      ],
      "execution_count": 0,
      "outputs": []
    },
    {
      "cell_type": "code",
      "metadata": {
        "id": "F7u2wPCQ7w6x",
        "colab_type": "code",
        "colab": {}
      },
      "source": [
        "data_final_NER.to_csv('entité.csv')"
      ],
      "execution_count": 0,
      "outputs": []
    },
    {
      "cell_type": "code",
      "metadata": {
        "id": "LXGmJdlK7wzi",
        "colab_type": "code",
        "colab": {}
      },
      "source": [
        ""
      ],
      "execution_count": 0,
      "outputs": []
    },
    {
      "cell_type": "code",
      "metadata": {
        "id": "oo2nrVJq7wwU",
        "colab_type": "code",
        "colab": {}
      },
      "source": [
        ""
      ],
      "execution_count": 0,
      "outputs": []
    },
    {
      "cell_type": "markdown",
      "metadata": {
        "id": "F4KPxIZGEJw0",
        "colab_type": "text"
      },
      "source": [
        ""
      ]
    }
  ]
}