{
  "nbformat": 4,
  "nbformat_minor": 0,
  "metadata": {
    "colab": {
      "name": "SpacyNLP ",
      "provenance": [],
      "collapsed_sections": [],
      "toc_visible": true,
      "machine_shape": "hm",
      "authorship_tag": "ABX9TyOLnd/p7HgjJoCOWYVBTPUz",
      "include_colab_link": true
    },
    "kernelspec": {
      "name": "python3",
      "display_name": "Python 3"
    }
  },
  "cells": [
    {
      "cell_type": "markdown",
      "metadata": {
        "id": "view-in-github",
        "colab_type": "text"
      },
      "source": [
        "<a href=\"https://colab.research.google.com/github/acanetti/Profiler/blob/master/SpacyNLP.ipynb\" target=\"_parent\"><img src=\"https://colab.research.google.com/assets/colab-badge.svg\" alt=\"Open In Colab\"/></a>"
      ]
    },
    {
      "cell_type": "code",
      "metadata": {
        "id": "MdtB_uRYMSyS",
        "colab_type": "code",
        "colab": {}
      },
      "source": [
        "import pandas as pd \n",
        "import numpy as np \n",
        "import os    \n",
        "from IPython.display import clear_output\n",
        "PATH ='drive/My Drive/data' \n",
        "import wordcloud\n",
        "import matplotlib.pyplot as plt \n",
        "from ipywidgets import interact  \n",
        "import time \n",
        "%matplotlib inline "
      ],
      "execution_count": 0,
      "outputs": []
    },
    {
      "cell_type": "code",
      "metadata": {
        "id": "QYr2DIPZMW7w",
        "colab_type": "code",
        "outputId": "7b0da120-0f06-4e04-cbfd-05eccaf62544",
        "colab": {
          "base_uri": "https://localhost:8080/",
          "height": 122
        }
      },
      "source": [
        "from google.colab import drive\n",
        "drive.mount('/content/drive')"
      ],
      "execution_count": 3,
      "outputs": [
        {
          "output_type": "stream",
          "text": [
            "Go to this URL in a browser: https://accounts.google.com/o/oauth2/auth?client_id=947318989803-6bn6qk8qdgf4n4g3pfee6491hc0brc4i.apps.googleusercontent.com&redirect_uri=urn%3aietf%3awg%3aoauth%3a2.0%3aoob&response_type=code&scope=email%20https%3a%2f%2fwww.googleapis.com%2fauth%2fdocs.test%20https%3a%2f%2fwww.googleapis.com%2fauth%2fdrive%20https%3a%2f%2fwww.googleapis.com%2fauth%2fdrive.photos.readonly%20https%3a%2f%2fwww.googleapis.com%2fauth%2fpeopleapi.readonly\n",
            "\n",
            "Enter your authorization code:\n",
            "··········\n",
            "Mounted at /content/drive\n"
          ],
          "name": "stdout"
        }
      ]
    },
    {
      "cell_type": "markdown",
      "metadata": {
        "id": "c7EAo1kL4v8t",
        "colab_type": "text"
      },
      "source": [
        "# Installation et import de SPacy pour reconnaissance d'entité nommé "
      ]
    },
    {
      "cell_type": "code",
      "metadata": {
        "id": "9XJSweO74vUs",
        "colab_type": "code",
        "colab": {}
      },
      "source": [
        "\n",
        "!pip install -U spaCy\n",
        "!python -m spacy download fr\n",
        "!python -m spacy download fr_core_news_md  \n",
        "import spacy\n",
        "from spacy import displacy\n",
        "nlp = spacy.load('fr') \n",
        "clear_output()\n"
      ],
      "execution_count": 0,
      "outputs": []
    },
    {
      "cell_type": "markdown",
      "metadata": {
        "id": "HjtsIa0kjt06",
        "colab_type": "text"
      },
      "source": [
        "# Import données Démocratie "
      ]
    },
    {
      "cell_type": "code",
      "metadata": {
        "id": "DWMwxFNhNf2C",
        "colab_type": "code",
        "outputId": "0fa47bab-81ac-45cf-ee57-0791fc4c989b",
        "colab": {
          "base_uri": "https://localhost:8080/",
          "height": 71
        }
      },
      "source": [
        "df=pd.read_csv(PATH + '/democratie_clean.csv')"
      ],
      "execution_count": 5,
      "outputs": [
        {
          "output_type": "stream",
          "text": [
            "/usr/local/lib/python3.6/dist-packages/IPython/core/interactiveshell.py:2718: DtypeWarning: Columns (2) have mixed types.Specify dtype option on import or set low_memory=False.\n",
            "  interactivity=interactivity, compiler=compiler, result=result)\n"
          ],
          "name": "stderr"
        }
      ]
    },
    {
      "cell_type": "code",
      "metadata": {
        "id": "VFFtNH66Qox2",
        "colab_type": "code",
        "outputId": "1e08b069-ca70-42d9-bf22-c205e3e54d88",
        "colab": {
          "base_uri": "https://localhost:8080/",
          "height": 632
        }
      },
      "source": [
        "df.head()"
      ],
      "execution_count": 6,
      "outputs": [
        {
          "output_type": "execute_result",
          "data": {
            "text/html": [
              "<div>\n",
              "<style scoped>\n",
              "    .dataframe tbody tr th:only-of-type {\n",
              "        vertical-align: middle;\n",
              "    }\n",
              "\n",
              "    .dataframe tbody tr th {\n",
              "        vertical-align: top;\n",
              "    }\n",
              "\n",
              "    .dataframe thead th {\n",
              "        text-align: right;\n",
              "    }\n",
              "</style>\n",
              "<table border=\"1\" class=\"dataframe\">\n",
              "  <thead>\n",
              "    <tr style=\"text-align: right;\">\n",
              "      <th></th>\n",
              "      <th>Unnamed: 0</th>\n",
              "      <th>title</th>\n",
              "      <th>authorZipCode</th>\n",
              "      <th>Q_0</th>\n",
              "      <th>Q_1</th>\n",
              "      <th>Q_2</th>\n",
              "      <th>Q_3</th>\n",
              "      <th>Q_4</th>\n",
              "      <th>Q_5</th>\n",
              "      <th>Q_6</th>\n",
              "      <th>Q_7</th>\n",
              "      <th>Q_8</th>\n",
              "      <th>Q_9</th>\n",
              "      <th>Q_10</th>\n",
              "      <th>Q_11</th>\n",
              "      <th>Q_12</th>\n",
              "      <th>Q_13</th>\n",
              "      <th>Q_14</th>\n",
              "      <th>Q_15</th>\n",
              "      <th>Q_16</th>\n",
              "      <th>Q_17</th>\n",
              "      <th>Q_18</th>\n",
              "      <th>Q_19</th>\n",
              "      <th>Q_20</th>\n",
              "      <th>Q_21</th>\n",
              "      <th>Q_22</th>\n",
              "      <th>Q_23</th>\n",
              "      <th>Q_24</th>\n",
              "      <th>Q_25</th>\n",
              "      <th>Q_26</th>\n",
              "      <th>Q_27</th>\n",
              "      <th>Q_28</th>\n",
              "      <th>Q_29</th>\n",
              "      <th>Q_30</th>\n",
              "      <th>Q_31</th>\n",
              "      <th>Q_32</th>\n",
              "      <th>Q_33</th>\n",
              "      <th>Q_34</th>\n",
              "      <th>Q_35</th>\n",
              "      <th>Q_36</th>\n",
              "    </tr>\n",
              "  </thead>\n",
              "  <tbody>\n",
              "    <tr>\n",
              "      <th>0</th>\n",
              "      <td>0</td>\n",
              "      <td>Les augmentations de rémunérations</td>\n",
              "      <td>79190</td>\n",
              "      <td>Le citoyen</td>\n",
              "      <td>Non</td>\n",
              "      <td>//</td>\n",
              "      <td>//</td>\n",
              "      <td>//</td>\n",
              "      <td>//</td>\n",
              "      <td>//</td>\n",
              "      <td>//</td>\n",
              "      <td>//</td>\n",
              "      <td>//</td>\n",
              "      <td>//</td>\n",
              "      <td>//</td>\n",
              "      <td>//</td>\n",
              "      <td>//</td>\n",
              "      <td>//</td>\n",
              "      <td>//</td>\n",
              "      <td>//</td>\n",
              "      <td>//</td>\n",
              "      <td>//</td>\n",
              "      <td>//</td>\n",
              "      <td>//</td>\n",
              "      <td>//</td>\n",
              "      <td>//</td>\n",
              "      <td>//</td>\n",
              "      <td>//</td>\n",
              "      <td>//</td>\n",
              "      <td>//</td>\n",
              "      <td>//</td>\n",
              "      <td>//</td>\n",
              "      <td>//</td>\n",
              "      <td>//</td>\n",
              "      <td>//</td>\n",
              "      <td>//</td>\n",
              "      <td>//</td>\n",
              "      <td>//</td>\n",
              "      <td>//</td>\n",
              "      <td>Afin d’éviter de creuser les inégalités ne plu...</td>\n",
              "    </tr>\n",
              "    <tr>\n",
              "      <th>1</th>\n",
              "      <td>1</td>\n",
              "      <td>rénover l'enquête publique pour en faire un vr...</td>\n",
              "      <td>1800</td>\n",
              "      <td>Un instrument de démocratie locale à modernise...</td>\n",
              "      <td>//</td>\n",
              "      <td>//</td>\n",
              "      <td>//</td>\n",
              "      <td>//</td>\n",
              "      <td>//</td>\n",
              "      <td>//</td>\n",
              "      <td>//</td>\n",
              "      <td>//</td>\n",
              "      <td>//</td>\n",
              "      <td>//</td>\n",
              "      <td>//</td>\n",
              "      <td>//</td>\n",
              "      <td>//</td>\n",
              "      <td>//</td>\n",
              "      <td>//</td>\n",
              "      <td>//</td>\n",
              "      <td>//</td>\n",
              "      <td>//</td>\n",
              "      <td>//</td>\n",
              "      <td>//</td>\n",
              "      <td>//</td>\n",
              "      <td>//</td>\n",
              "      <td>//</td>\n",
              "      <td>//</td>\n",
              "      <td>//</td>\n",
              "      <td>//</td>\n",
              "      <td>//</td>\n",
              "      <td>//</td>\n",
              "      <td>//</td>\n",
              "      <td>//</td>\n",
              "      <td>//</td>\n",
              "      <td>//</td>\n",
              "      <td>//</td>\n",
              "      <td>//</td>\n",
              "      <td>//</td>\n",
              "      <td>//</td>\n",
              "    </tr>\n",
              "    <tr>\n",
              "      <th>2</th>\n",
              "      <td>2</td>\n",
              "      <td>Limitations de vitesse et sécurité routière</td>\n",
              "      <td>44300</td>\n",
              "      <td>//</td>\n",
              "      <td>//</td>\n",
              "      <td>//</td>\n",
              "      <td>//</td>\n",
              "      <td>//</td>\n",
              "      <td>//</td>\n",
              "      <td>//</td>\n",
              "      <td>//</td>\n",
              "      <td>//</td>\n",
              "      <td>//</td>\n",
              "      <td>//</td>\n",
              "      <td>//</td>\n",
              "      <td>//</td>\n",
              "      <td>//</td>\n",
              "      <td>//</td>\n",
              "      <td>//</td>\n",
              "      <td>//</td>\n",
              "      <td>//</td>\n",
              "      <td>//</td>\n",
              "      <td>//</td>\n",
              "      <td>//</td>\n",
              "      <td>//</td>\n",
              "      <td>//</td>\n",
              "      <td>//</td>\n",
              "      <td>//</td>\n",
              "      <td>//</td>\n",
              "      <td>//</td>\n",
              "      <td>//</td>\n",
              "      <td>//</td>\n",
              "      <td>//</td>\n",
              "      <td>//</td>\n",
              "      <td>//</td>\n",
              "      <td>//</td>\n",
              "      <td>//</td>\n",
              "      <td>//</td>\n",
              "      <td>//</td>\n",
              "      <td>Nous proposons le retour à la limitation de vi...</td>\n",
              "    </tr>\n",
              "    <tr>\n",
              "      <th>3</th>\n",
              "      <td>3</td>\n",
              "      <td>Pour un nouveau contrat citoyen</td>\n",
              "      <td>29490</td>\n",
              "      <td>Voir l'intégralité de la proposition dans la d...</td>\n",
              "      <td>//</td>\n",
              "      <td>//</td>\n",
              "      <td>//</td>\n",
              "      <td>//</td>\n",
              "      <td>//</td>\n",
              "      <td>//</td>\n",
              "      <td>//</td>\n",
              "      <td>//</td>\n",
              "      <td>//</td>\n",
              "      <td>//</td>\n",
              "      <td>//</td>\n",
              "      <td>//</td>\n",
              "      <td>//</td>\n",
              "      <td>//</td>\n",
              "      <td>//</td>\n",
              "      <td>//</td>\n",
              "      <td>//</td>\n",
              "      <td>//</td>\n",
              "      <td>//</td>\n",
              "      <td>//</td>\n",
              "      <td>//</td>\n",
              "      <td>//</td>\n",
              "      <td>//</td>\n",
              "      <td>//</td>\n",
              "      <td>//</td>\n",
              "      <td>//</td>\n",
              "      <td>//</td>\n",
              "      <td>//</td>\n",
              "      <td>//</td>\n",
              "      <td>//</td>\n",
              "      <td>//</td>\n",
              "      <td>//</td>\n",
              "      <td>//</td>\n",
              "      <td>//</td>\n",
              "      <td>//</td>\n",
              "      <td>POUR UN NOUVEAU CONTRAT CITOYEN               ...</td>\n",
              "    </tr>\n",
              "    <tr>\n",
              "      <th>4</th>\n",
              "      <td>4</td>\n",
              "      <td>Développer les démarches de budget participati...</td>\n",
              "      <td>94300</td>\n",
              "      <td>député, maire, moi même</td>\n",
              "      <td>Non</td>\n",
              "      <td>//</td>\n",
              "      <td>Budget participatif, possibilité d'interpeller...</td>\n",
              "      <td>Une bonne chose</td>\n",
              "      <td>//</td>\n",
              "      <td>//</td>\n",
              "      <td>Oui</td>\n",
              "      <td>//</td>\n",
              "      <td>//</td>\n",
              "      <td>Oui</td>\n",
              "      <td>//</td>\n",
              "      <td>Des démarches de débat public (délibération) e...</td>\n",
              "      <td>//</td>\n",
              "      <td>//</td>\n",
              "      <td>//</td>\n",
              "      <td>//</td>\n",
              "      <td>//</td>\n",
              "      <td>//</td>\n",
              "      <td>//</td>\n",
              "      <td>//</td>\n",
              "      <td>//</td>\n",
              "      <td>//</td>\n",
              "      <td>//</td>\n",
              "      <td>//</td>\n",
              "      <td>//</td>\n",
              "      <td>//</td>\n",
              "      <td>//</td>\n",
              "      <td>//</td>\n",
              "      <td>//</td>\n",
              "      <td>//</td>\n",
              "      <td>//</td>\n",
              "      <td>//</td>\n",
              "      <td>//</td>\n",
              "      <td>//</td>\n",
              "      <td>//</td>\n",
              "      <td>//</td>\n",
              "    </tr>\n",
              "  </tbody>\n",
              "</table>\n",
              "</div>"
            ],
            "text/plain": [
              "   Unnamed: 0  ...                                               Q_36\n",
              "0           0  ...  Afin d’éviter de creuser les inégalités ne plu...\n",
              "1           1  ...                                                 //\n",
              "2           2  ...  Nous proposons le retour à la limitation de vi...\n",
              "3           3  ...  POUR UN NOUVEAU CONTRAT CITOYEN               ...\n",
              "4           4  ...                                                 //\n",
              "\n",
              "[5 rows x 40 columns]"
            ]
          },
          "metadata": {
            "tags": []
          },
          "execution_count": 6
        }
      ]
    },
    {
      "cell_type": "markdown",
      "metadata": {
        "id": "tQWsz5nZj4lW",
        "colab_type": "text"
      },
      "source": [
        "#  NLP "
      ]
    },
    {
      "cell_type": "code",
      "metadata": {
        "id": "4UAd4ic926Lh",
        "colab_type": "code",
        "outputId": "debeedf7-ac5a-4add-8785-0a82d331aeb6",
        "colab": {
          "base_uri": "https://localhost:8080/",
          "height": 353
        }
      },
      "source": [
        "\n"
      ],
      "execution_count": 7,
      "outputs": [
        {
          "output_type": "display_data",
          "data": {
            "text/html": [
              "<span class=\"tex2jax_ignore\"><svg xmlns=\"http://www.w3.org/2000/svg\" xmlns:xlink=\"http://www.w3.org/1999/xlink\" xml:lang=\"fr\" id=\"41c75342fa5c43c0aa61d0dcaaf0aa4f-0\" class=\"displacy\" width=\"570\" height=\"332.0\" direction=\"ltr\" style=\"max-width: none; height: 332.0px; color: #000000; background: #ffffff; font-family: Arial; direction: ltr\">\n",
              "<text class=\"displacy-token\" fill=\"currentColor\" text-anchor=\"middle\" y=\"242.0\">\n",
              "    <tspan class=\"displacy-word\" fill=\"currentColor\" x=\"50\">je</tspan>\n",
              "    <tspan class=\"displacy-tag\" dy=\"2em\" fill=\"currentColor\" x=\"50\">PRON</tspan>\n",
              "</text>\n",
              "\n",
              "<text class=\"displacy-token\" fill=\"currentColor\" text-anchor=\"middle\" y=\"242.0\">\n",
              "    <tspan class=\"displacy-word\" fill=\"currentColor\" x=\"180\">suis</tspan>\n",
              "    <tspan class=\"displacy-tag\" dy=\"2em\" fill=\"currentColor\" x=\"180\">AUX</tspan>\n",
              "</text>\n",
              "\n",
              "<text class=\"displacy-token\" fill=\"currentColor\" text-anchor=\"middle\" y=\"242.0\">\n",
              "    <tspan class=\"displacy-word\" fill=\"currentColor\" x=\"310\">un</tspan>\n",
              "    <tspan class=\"displacy-tag\" dy=\"2em\" fill=\"currentColor\" x=\"310\">DET</tspan>\n",
              "</text>\n",
              "\n",
              "<text class=\"displacy-token\" fill=\"currentColor\" text-anchor=\"middle\" y=\"242.0\">\n",
              "    <tspan class=\"displacy-word\" fill=\"currentColor\" x=\"440\">homme</tspan>\n",
              "    <tspan class=\"displacy-tag\" dy=\"2em\" fill=\"currentColor\" x=\"440\">NOUN</tspan>\n",
              "</text>\n",
              "\n",
              "<g class=\"displacy-arrow\">\n",
              "    <path class=\"displacy-arc\" id=\"arrow-41c75342fa5c43c0aa61d0dcaaf0aa4f-0-0\" stroke-width=\"2px\" d=\"M70,197.0 C70,2.0 440.0,2.0 440.0,197.0\" fill=\"none\" stroke=\"currentColor\"/>\n",
              "    <text dy=\"1.25em\" style=\"font-size: 0.8em; letter-spacing: 1px\">\n",
              "        <textPath xlink:href=\"#arrow-41c75342fa5c43c0aa61d0dcaaf0aa4f-0-0\" class=\"displacy-label\" startOffset=\"50%\" side=\"left\" fill=\"currentColor\" text-anchor=\"middle\">nsubj</textPath>\n",
              "    </text>\n",
              "    <path class=\"displacy-arrowhead\" d=\"M70,199.0 L62,187.0 78,187.0\" fill=\"currentColor\"/>\n",
              "</g>\n",
              "\n",
              "<g class=\"displacy-arrow\">\n",
              "    <path class=\"displacy-arc\" id=\"arrow-41c75342fa5c43c0aa61d0dcaaf0aa4f-0-1\" stroke-width=\"2px\" d=\"M200,197.0 C200,67.0 435.0,67.0 435.0,197.0\" fill=\"none\" stroke=\"currentColor\"/>\n",
              "    <text dy=\"1.25em\" style=\"font-size: 0.8em; letter-spacing: 1px\">\n",
              "        <textPath xlink:href=\"#arrow-41c75342fa5c43c0aa61d0dcaaf0aa4f-0-1\" class=\"displacy-label\" startOffset=\"50%\" side=\"left\" fill=\"currentColor\" text-anchor=\"middle\">cop</textPath>\n",
              "    </text>\n",
              "    <path class=\"displacy-arrowhead\" d=\"M200,199.0 L192,187.0 208,187.0\" fill=\"currentColor\"/>\n",
              "</g>\n",
              "\n",
              "<g class=\"displacy-arrow\">\n",
              "    <path class=\"displacy-arc\" id=\"arrow-41c75342fa5c43c0aa61d0dcaaf0aa4f-0-2\" stroke-width=\"2px\" d=\"M330,197.0 C330,132.0 430.0,132.0 430.0,197.0\" fill=\"none\" stroke=\"currentColor\"/>\n",
              "    <text dy=\"1.25em\" style=\"font-size: 0.8em; letter-spacing: 1px\">\n",
              "        <textPath xlink:href=\"#arrow-41c75342fa5c43c0aa61d0dcaaf0aa4f-0-2\" class=\"displacy-label\" startOffset=\"50%\" side=\"left\" fill=\"currentColor\" text-anchor=\"middle\">det</textPath>\n",
              "    </text>\n",
              "    <path class=\"displacy-arrowhead\" d=\"M330,199.0 L322,187.0 338,187.0\" fill=\"currentColor\"/>\n",
              "</g>\n",
              "</svg></span>"
            ],
            "text/plain": [
              "<IPython.core.display.HTML object>"
            ]
          },
          "metadata": {
            "tags": []
          }
        }
      ]
    },
    {
      "cell_type": "markdown",
      "metadata": {
        "id": "EoBog1Xd_zf3",
        "colab_type": "text"
      },
      "source": [
        "# Concatenation des réponses "
      ]
    },
    {
      "cell_type": "code",
      "metadata": {
        "id": "n969oPw66XxQ",
        "colab_type": "code",
        "colab": {}
      },
      "source": [
        "Question = df.columns[3:]\n",
        "Titre = df.columns[1]  \n",
        "Zipcode=df.columns[2]\n",
        "df_question = df[Question].replace('//',np.nan)"
      ],
      "execution_count": 0,
      "outputs": []
    },
    {
      "cell_type": "code",
      "metadata": {
        "id": "RPwQ2lyxIBJJ",
        "colab_type": "code",
        "colab": {}
      },
      "source": [
        "def cleanse_talk(): \n",
        "    talk=[]\n",
        "    for i in range(df.shape[0]): \n",
        "        tmp_df = df_question.iloc[i].dropna().values\n",
        "        try :  \n",
        "            tmp_val=''\n",
        "            for char in tmp_df: \n",
        "                charstr=str(char) \n",
        "                if charstr[-1] != '.':\n",
        "                    tmp_val += charstr +'. ' \n",
        "                else : \n",
        "                    tmp_val +=  charstr + ' '\n",
        "            talk.append(tmp_val)\n",
        "        except :  \n",
        "            talk.append('None') \n",
        "    return talk \n"
      ],
      "execution_count": 0,
      "outputs": []
    },
    {
      "cell_type": "code",
      "metadata": {
        "id": "Aj_VZFa3HkuP",
        "colab_type": "code",
        "colab": {}
      },
      "source": [
        "data_list=cleanse_talk()"
      ],
      "execution_count": 0,
      "outputs": []
    },
    {
      "cell_type": "code",
      "metadata": {
        "id": "-vwWxRcJHkpp",
        "colab_type": "code",
        "colab": {}
      },
      "source": [
        ""
      ],
      "execution_count": 0,
      "outputs": []
    },
    {
      "cell_type": "code",
      "metadata": {
        "id": "XbCbopNKPUTI",
        "colab_type": "code",
        "colab": {}
      },
      "source": [
        " def gender_finder(i,data_list):\n",
        "    maxima = len(data_list) \n",
        "    try : \n",
        "        test_on_one = data_list[i] \n",
        "        doc_on_one = nlp(test_on_one) \n",
        "    except : \n",
        "        raise ValueError(f' index value must be < {maxima} ')\n",
        "    gender= 'None' \n",
        "    testat = 'None'\n",
        "    for token in doc_on_one : \n",
        "        if 'PRON__Number=Sing' in token.tag_ : \n",
        "            if 'ADJ__Gender=Fem' in token.head.tag_: \n",
        "                gender = 'Female'  \n",
        "                testat=token.dep_\n",
        "                break \n",
        "            elif 'ADJ__Gender=Masc' in token.head.tag_: \n",
        "                gender = 'Male' \n",
        "                testat=token.dep_\n",
        "                break \n",
        "            else :  \n",
        "                None \n",
        "\n",
        "    return gender"
      ],
      "execution_count": 0,
      "outputs": []
    },
    {
      "cell_type": "code",
      "metadata": {
        "id": "eSDbqVSERaJK",
        "colab_type": "code",
        "colab": {}
      },
      "source": [
        "import multiprocessing"
      ],
      "execution_count": 0,
      "outputs": []
    },
    {
      "cell_type": "code",
      "metadata": {
        "id": "wbmjze_LDtGR",
        "colab_type": "code",
        "colab": {}
      },
      "source": [
        "def gender_parallel(start,stop): \n",
        "    for val in range(start,stop) :    \n",
        "        Dict[val] = gender_finder(val,data_list)"
      ],
      "execution_count": 0,
      "outputs": []
    },
    {
      "cell_type": "code",
      "metadata": {
        "id": "lFOgDgP7RauG",
        "colab_type": "code",
        "colab": {}
      },
      "source": [
        "def Create_process_gender(core : int = multiprocessing.cpu_count() ) -> list : \n",
        "    manager = multiprocessing.Manager()\n",
        "    global Dict \n",
        "    Dict = manager.dict() \n",
        "    \n",
        "    process_list=[]\n",
        "    size = len(data_list) // core \n",
        "    step = core \n",
        "    for i in range(core): \n",
        "        if i != core :\n",
        "            proc=multiprocessing.Process(target=gender_parallel, args=(int(size*i),int(size*(i+1))))  \n",
        "        else : \n",
        "            proc=multiprocessing.Process(target=gender_parallel, args=(int(size*i),len(data_list)-1))    \n",
        "\n",
        "        process_list.append(proc)  \n",
        "    \n",
        "    return process_list"
      ],
      "execution_count": 0,
      "outputs": []
    },
    {
      "cell_type": "code",
      "metadata": {
        "id": "35JwRsfqEeG8",
        "colab_type": "code",
        "colab": {}
      },
      "source": [
        " def entity_finder(i,data_list):\n",
        "    descriptor_entity=set([])\n",
        "    maxima = len(data_list) \n",
        "    try : \n",
        "        test_on_one = data_list[i] \n",
        "        doc_on_one = nlp(test_on_one) \n",
        "    except : \n",
        "        raise ValueError(f' index value must be < {maxima} ')\n",
        "    entity = doc_on_one.ents  \n",
        "    for i in entity : \n",
        "        if len(i.text)> 2 : \n",
        "            if i.label_ != 'MISC':\n",
        "                descriptor_entity.add((i.text,i.label_))\n",
        "\n",
        "    return descriptor_entity"
      ],
      "execution_count": 0,
      "outputs": []
    },
    {
      "cell_type": "code",
      "metadata": {
        "id": "BHY6M0GUZA4P",
        "colab_type": "code",
        "colab": {}
      },
      "source": [
        "def parallel_entity (start,stop): \n",
        "    for  i in range(start,stop): \n",
        "       Dict_entity[i] = list(entity_finder(i,data_list))  \n"
      ],
      "execution_count": 0,
      "outputs": []
    },
    {
      "cell_type": "code",
      "metadata": {
        "id": "lbuCR6uBFrjJ",
        "colab_type": "code",
        "colab": {}
      },
      "source": [
        "def Create_process_entity(core : int = multiprocessing.cpu_count() ) -> list : \n",
        "    manager = multiprocessing.Manager()\n",
        "    global Dict_entity\n",
        "    Dict_entity = manager.dict() \n",
        "    \n",
        "    process_list=[]\n",
        "    size = len(data_list) // core \n",
        "    step = core \n",
        "    for i in range(core): \n",
        "        if i != core :\n",
        "            proc=multiprocessing.Process(target=parallel_entity, args=(int(size*i),int(size*(i+1))))  \n",
        "        else : \n",
        "            proc=multiprocessing.Process(target=parallel_entity, args=(int(size*i),len(data_list)))    \n",
        "\n",
        "        process_list.append(proc)  \n",
        "    \n",
        "    return process_list"
      ],
      "execution_count": 0,
      "outputs": []
    },
    {
      "cell_type": "code",
      "metadata": {
        "id": "C1PY182DWEXm",
        "colab_type": "code",
        "colab": {}
      },
      "source": [
        "#Entity_process = Create_process_entity()\n",
        "#for proc in Entity_process: \n",
        "#     proc.start()"
      ],
      "execution_count": 0,
      "outputs": []
    },
    {
      "cell_type": "code",
      "metadata": {
        "id": "F00g3r6jWEM2",
        "colab_type": "code",
        "colab": {}
      },
      "source": [
        "def Checking_process():\n",
        "    for proc in Entity_process:  \n",
        "        alive = 'is dead'  \n",
        "        if proc.is_alive() == True : \n",
        "            alive= 'is alive'\n",
        "\n",
        "        print(f'{proc.name}  {alive}') \n",
        "\n",
        "    first = len(Dict_entity) \n",
        "    time.sleep(1) \n",
        "    vitesse=(len(Dict_entity)-first)\n",
        "    print(f'{vitesse} corpus traité par seconde ' ) \n",
        "    print(f'avancement = {(len(Dict_entity) / len(data_list))*100 } %')"
      ],
      "execution_count": 0,
      "outputs": []
    },
    {
      "cell_type": "code",
      "metadata": {
        "id": "jKG8BVaoW8uz",
        "colab_type": "code",
        "colab": {}
      },
      "source": [
        "#ENTITY= pd.DataFrame(Dict_entity.items(),columns=['num','tupl']).set_index('num')"
      ],
      "execution_count": 0,
      "outputs": []
    },
    {
      "cell_type": "code",
      "metadata": {
        "id": "-2RQ8e3Zzv9V",
        "colab_type": "code",
        "colab": {}
      },
      "source": [
        "#vector_e=ENTITY.sort_index().values\n",
        "#entity_list=[]\n",
        "#for i in vector_e : \n",
        "#    entity_list += i[0]"
      ],
      "execution_count": 0,
      "outputs": []
    },
    {
      "cell_type": "code",
      "metadata": {
        "id": "U_noHucCzv16",
        "colab_type": "code",
        "colab": {}
      },
      "source": [
        "#container = list(zip(*entity_list))"
      ],
      "execution_count": 0,
      "outputs": []
    },
    {
      "cell_type": "code",
      "metadata": {
        "id": "tSOkivPh12MK",
        "colab_type": "code",
        "colab": {
          "base_uri": "https://localhost:8080/",
          "height": 54
        },
        "outputId": "df785770-6376-4426-de41-f20525b72cd7"
      },
      "source": [
        "'''from collections import Counter\n",
        "entity_count= Counter(container[0]) \n",
        "data_entité = list(zip(*entity_count.most_common())) \n",
        "data_final_NER = pd.DataFrame() \n",
        "data_final_NER['entité']=data_entité[0]\n",
        "data_final_NER['freq']=data_entité[1] \n",
        "data_final_NER.to_csv('entité.csv')''' "
      ],
      "execution_count": 20,
      "outputs": [
        {
          "output_type": "execute_result",
          "data": {
            "text/plain": [
              "\"from collections import Counter\\nentity_count= Counter(container[0]) \\ndata_entité = list(zip(*entity_count.most_common())) \\ndata_final_NER = pd.DataFrame() \\ndata_final_NER['entité']=data_entité[0]\\ndata_final_NER['freq']=data_entité[1] \\ndata_final_NER.to_csv('entité.csv')\""
            ]
          },
          "metadata": {
            "tags": []
          },
          "execution_count": 20
        }
      ]
    },
    {
      "cell_type": "code",
      "metadata": {
        "id": "6dxO9QEsxNyV",
        "colab_type": "code",
        "colab": {}
      },
      "source": [
        "options = {\"compact\": True, \"bg\": \"rgba(0, 0, 0, 0.2)\",\n",
        "           \"color\": \"black\", \"font\": \"Source Sans Pro\"}"
      ],
      "execution_count": 0,
      "outputs": []
    },
    {
      "cell_type": "code",
      "metadata": {
        "id": "v9tAw53W2a6k",
        "colab_type": "code",
        "colab": {
          "base_uri": "https://localhost:8080/",
          "height": 308
        },
        "outputId": "7c23865d-3293-4243-98f8-fb6ba1f212c4"
      },
      "source": [
        "displacy.render(nlp(\"j'étais introverti \"), style='dep', jupyter=True, options=options)"
      ],
      "execution_count": 50,
      "outputs": [
        {
          "output_type": "display_data",
          "data": {
            "text/html": [
              "<span class=\"tex2jax_ignore\"><svg xmlns=\"http://www.w3.org/2000/svg\" xmlns:xlink=\"http://www.w3.org/1999/xlink\" xml:lang=\"fr\" id=\"a1784d71e36d432d9e05a204451ded22-0\" class=\"displacy\" width=\"500\" height=\"287.0\" direction=\"ltr\" style=\"max-width: none; height: 287.0px; color: black; background: rgba(0, 0, 0, 0.2); font-family: Source Sans Pro; direction: ltr\">\n",
              "<text class=\"displacy-token\" fill=\"currentColor\" text-anchor=\"middle\" y=\"197.0\">\n",
              "    <tspan class=\"displacy-word\" fill=\"currentColor\" x=\"50\">j'</tspan>\n",
              "    <tspan class=\"displacy-tag\" dy=\"2em\" fill=\"currentColor\" x=\"50\">PRON</tspan>\n",
              "</text>\n",
              "\n",
              "<text class=\"displacy-token\" fill=\"currentColor\" text-anchor=\"middle\" y=\"197.0\">\n",
              "    <tspan class=\"displacy-word\" fill=\"currentColor\" x=\"200\">étais</tspan>\n",
              "    <tspan class=\"displacy-tag\" dy=\"2em\" fill=\"currentColor\" x=\"200\">AUX</tspan>\n",
              "</text>\n",
              "\n",
              "<text class=\"displacy-token\" fill=\"currentColor\" text-anchor=\"middle\" y=\"197.0\">\n",
              "    <tspan class=\"displacy-word\" fill=\"currentColor\" x=\"350\">introverti</tspan>\n",
              "    <tspan class=\"displacy-tag\" dy=\"2em\" fill=\"currentColor\" x=\"350\">ADJ</tspan>\n",
              "</text>\n",
              "\n",
              "<g class=\"displacy-arrow\">\n",
              "    <path class=\"displacy-arc\" id=\"arrow-a1784d71e36d432d9e05a204451ded22-0-0\" stroke-width=\"2px\" d=\"M62,152.0 62,102.0 350.0,102.0 350.0,152.0\" fill=\"none\" stroke=\"currentColor\"/>\n",
              "    <text dy=\"1.25em\" style=\"font-size: 0.8em; letter-spacing: 1px\">\n",
              "        <textPath xlink:href=\"#arrow-a1784d71e36d432d9e05a204451ded22-0-0\" class=\"displacy-label\" startOffset=\"50%\" side=\"left\" fill=\"currentColor\" text-anchor=\"middle\">nsubj</textPath>\n",
              "    </text>\n",
              "    <path class=\"displacy-arrowhead\" d=\"M62,154.0 L58,146.0 66,146.0\" fill=\"currentColor\"/>\n",
              "</g>\n",
              "\n",
              "<g class=\"displacy-arrow\">\n",
              "    <path class=\"displacy-arc\" id=\"arrow-a1784d71e36d432d9e05a204451ded22-0-1\" stroke-width=\"2px\" d=\"M212,152.0 212,127.0 347.0,127.0 347.0,152.0\" fill=\"none\" stroke=\"currentColor\"/>\n",
              "    <text dy=\"1.25em\" style=\"font-size: 0.8em; letter-spacing: 1px\">\n",
              "        <textPath xlink:href=\"#arrow-a1784d71e36d432d9e05a204451ded22-0-1\" class=\"displacy-label\" startOffset=\"50%\" side=\"left\" fill=\"currentColor\" text-anchor=\"middle\">cop</textPath>\n",
              "    </text>\n",
              "    <path class=\"displacy-arrowhead\" d=\"M212,154.0 L208,146.0 216,146.0\" fill=\"currentColor\"/>\n",
              "</g>\n",
              "</svg></span>"
            ],
            "text/plain": [
              "<IPython.core.display.HTML object>"
            ]
          },
          "metadata": {
            "tags": []
          }
        }
      ]
    },
    {
      "cell_type": "code",
      "metadata": {
        "id": "oGC73s6A2a4H",
        "colab_type": "code",
        "colab": {}
      },
      "source": [
        ""
      ],
      "execution_count": 0,
      "outputs": []
    },
    {
      "cell_type": "code",
      "metadata": {
        "id": "w4Ea9Jhm5qut",
        "colab_type": "code",
        "colab": {}
      },
      "source": [
        ""
      ],
      "execution_count": 0,
      "outputs": []
    },
    {
      "cell_type": "code",
      "metadata": {
        "id": "F7u2wPCQ7w6x",
        "colab_type": "code",
        "colab": {}
      },
      "source": [
        ""
      ],
      "execution_count": 0,
      "outputs": []
    },
    {
      "cell_type": "code",
      "metadata": {
        "id": "LXGmJdlK7wzi",
        "colab_type": "code",
        "colab": {}
      },
      "source": [
        ""
      ],
      "execution_count": 0,
      "outputs": []
    },
    {
      "cell_type": "code",
      "metadata": {
        "id": "oo2nrVJq7wwU",
        "colab_type": "code",
        "colab": {}
      },
      "source": [
        ""
      ],
      "execution_count": 0,
      "outputs": []
    },
    {
      "cell_type": "markdown",
      "metadata": {
        "id": "F4KPxIZGEJw0",
        "colab_type": "text"
      },
      "source": [
        ""
      ]
    }
  ]
}