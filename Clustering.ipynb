{
  "nbformat": 4,
  "nbformat_minor": 0,
  "metadata": {
    "colab": {
      "name": "Vizu.ipynb",
      "provenance": [],
      "machine_shape": "hm",
      "authorship_tag": "ABX9TyP8QJkF8oLxvob2/EiRx9yL",
      "include_colab_link": true
    },
    "kernelspec": {
      "name": "python3",
      "display_name": "Python 3"
    }
  },
  "cells": [
    {
      "cell_type": "markdown",
      "metadata": {
        "id": "view-in-github",
        "colab_type": "text"
      },
      "source": [
        "<a href=\"https://colab.research.google.com/github/acanetti/Profiler/blob/master/Clustering.ipynb\" target=\"_parent\"><img src=\"https://colab.research.google.com/assets/colab-badge.svg\" alt=\"Open In Colab\"/></a>"
      ]
    },
    {
      "cell_type": "code",
      "metadata": {
        "id": "JhZWo75m85xc",
        "colab_type": "code",
        "colab": {
          "base_uri": "https://localhost:8080/",
          "height": 34
        },
        "outputId": "e97436ec-2e09-4b81-fe17-68ed2af516e0"
      },
      "source": [
        "import pandas as pd \n",
        "import numpy as np \n",
        "import os    \n",
        "from IPython.display import clear_output\n",
        "PATH ='drive/My Drive/data' \n",
        "import wordcloud\n",
        "import matplotlib.pyplot as plt \n",
        "from ipywidgets import interact  \n",
        "import time  \n",
        "import sys\n",
        "%matplotlib inline  \n",
        "import joblib\n",
        "from google.colab import drive\n",
        "drive.mount('/content/drive') "
      ],
      "execution_count": 1,
      "outputs": [
        {
          "output_type": "stream",
          "text": [
            "Drive already mounted at /content/drive; to attempt to forcibly remount, call drive.mount(\"/content/drive\", force_remount=True).\n"
          ],
          "name": "stdout"
        }
      ]
    },
    {
      "cell_type": "code",
      "metadata": {
        "id": "mfB8wQ6089P0",
        "colab_type": "code",
        "colab": {
          "base_uri": "https://localhost:8080/",
          "height": 119
        },
        "outputId": "605daef7-e5d1-4800-86bc-6ccb6e3866d6"
      },
      "source": [
        "os.listdir(PATH)"
      ],
      "execution_count": 2,
      "outputs": [
        {
          "output_type": "execute_result",
          "data": {
            "text/plain": [
              "['democratie_clean.csv',\n",
              " 'animation_death2.mp4',\n",
              " 'COVID19_2020_open_line_list.gsheet',\n",
              " 'twitter-2010-ids.csv.zip',\n",
              " 'twitter_100M',\n",
              " 'gender_array.job']"
            ]
          },
          "metadata": {
            "tags": []
          },
          "execution_count": 2
        }
      ]
    },
    {
      "cell_type": "code",
      "metadata": {
        "id": "JaSCfBgw_PA6",
        "colab_type": "code",
        "colab": {
          "base_uri": "https://localhost:8080/",
          "height": 71
        },
        "outputId": "b4fe350e-fa15-4e81-ca75-99aa8c4cad64"
      },
      "source": [
        "df=pd.read_csv(PATH + '/democratie_clean.csv') \n",
        "df['gender']=joblib.load(PATH +'/gender_array.job')"
      ],
      "execution_count": 3,
      "outputs": [
        {
          "output_type": "stream",
          "text": [
            "/usr/local/lib/python3.6/dist-packages/IPython/core/interactiveshell.py:2718: DtypeWarning: Columns (2) have mixed types.Specify dtype option on import or set low_memory=False.\n",
            "  interactivity=interactivity, compiler=compiler, result=result)\n"
          ],
          "name": "stderr"
        }
      ]
    },
    {
      "cell_type": "code",
      "metadata": {
        "id": "CrzgmA0OFeR6",
        "colab_type": "code",
        "colab": {}
      },
      "source": [
        "data_gender = df[['title','authorZipCode','gender']]"
      ],
      "execution_count": 0,
      "outputs": []
    },
    {
      "cell_type": "code",
      "metadata": {
        "id": "5XPAoBhuFsn1",
        "colab_type": "code",
        "colab": {}
      },
      "source": [
        "localisation=pd.read_csv('https://raw.githubusercontent.com/acanetti/Profiler/master/localisation.csv',sep=';')"
      ],
      "execution_count": 0,
      "outputs": []
    },
    {
      "cell_type": "code",
      "metadata": {
        "id": "B-YqjhYQGYfn",
        "colab_type": "code",
        "colab": {}
      },
      "source": [
        "loc=localisation[['code_postal','region']]"
      ],
      "execution_count": 0,
      "outputs": []
    },
    {
      "cell_type": "code",
      "metadata": {
        "id": "xv5Nh3C0IJNW",
        "colab_type": "code",
        "colab": {}
      },
      "source": [
        "df=df[df['gender']!='None']"
      ],
      "execution_count": 0,
      "outputs": []
    },
    {
      "cell_type": "code",
      "metadata": {
        "id": "GpPD6cfOITle",
        "colab_type": "code",
        "colab": {}
      },
      "source": [
        "Question = df.columns[3:-1]\n",
        "Titre = df.columns[1]  \n",
        "Zipcode=df.columns[2]\n",
        "df_question = df[Question].replace('//',np.nan)\n",
        "def cleanse_talk(): \n",
        "    talk=[]\n",
        "    for i in range(df.shape[0]): \n",
        "        tmp_df = df_question.iloc[i].dropna().values\n",
        "        try :  \n",
        "            tmp_val=''\n",
        "            for char in tmp_df: \n",
        "                charstr=str(char) \n",
        "                if charstr[-1] != '.':\n",
        "                    tmp_val += charstr +'. ' \n",
        "                else : \n",
        "                    tmp_val +=  charstr + ' '\n",
        "            talk.append(tmp_val)\n",
        "        except :  \n",
        "            talk.append('None') \n",
        "    return talk \n"
      ],
      "execution_count": 0,
      "outputs": []
    },
    {
      "cell_type": "code",
      "metadata": {
        "id": "MnjM-E9JMZKT",
        "colab_type": "code",
        "colab": {}
      },
      "source": [
        "text=cleanse_talk()"
      ],
      "execution_count": 0,
      "outputs": []
    },
    {
      "cell_type": "code",
      "metadata": {
        "id": "DGpVPvKFMdQD",
        "colab_type": "code",
        "colab": {}
      },
      "source": [
        ""
      ],
      "execution_count": 0,
      "outputs": []
    },
    {
      "cell_type": "code",
      "metadata": {
        "id": "Hj6cNoj7MdKe",
        "colab_type": "code",
        "colab": {}
      },
      "source": [
        "from sklearn.feature_extraction.text import TfidfVectorizer"
      ],
      "execution_count": 0,
      "outputs": []
    },
    {
      "cell_type": "code",
      "metadata": {
        "id": "S_PDvqp-IhgV",
        "colab_type": "code",
        "colab": {}
      },
      "source": [
        "vectorizer=TfidfVectorizer(min_df=0.001,max_df=0.7,  max_features=20000) "
      ],
      "execution_count": 0,
      "outputs": []
    },
    {
      "cell_type": "code",
      "metadata": {
        "id": "2MSqhODsNUhx",
        "colab_type": "code",
        "colab": {
          "base_uri": "https://localhost:8080/",
          "height": 51
        },
        "outputId": "454549db-dbc9-4eba-ba62-8a34019e4646"
      },
      "source": [
        "X=vectorizer.fit_transform(text)  \n",
        "X"
      ],
      "execution_count": 13,
      "outputs": [
        {
          "output_type": "execute_result",
          "data": {
            "text/plain": [
              "<23764x17788 sparse matrix of type '<class 'numpy.float64'>'\n",
              "\twith 7445914 stored elements in Compressed Sparse Row format>"
            ]
          },
          "metadata": {
            "tags": []
          },
          "execution_count": 13
        }
      ]
    },
    {
      "cell_type": "code",
      "metadata": {
        "id": "qRKF3z-RMhse",
        "colab_type": "code",
        "colab": {}
      },
      "source": [
        "#X_array=X.astype(np.float32).toarray()"
      ],
      "execution_count": 0,
      "outputs": []
    },
    {
      "cell_type": "code",
      "metadata": {
        "id": "ZWerfeBgM1NB",
        "colab_type": "code",
        "colab": {}
      },
      "source": [
        "from sklearn.neighbors import NearestNeighbors as NN \n",
        "from sklearn.cluster import DBSCAN , KMeans"
      ],
      "execution_count": 0,
      "outputs": []
    },
    {
      "cell_type": "code",
      "metadata": {
        "id": "oiuDROrLNrsD",
        "colab_type": "code",
        "colab": {}
      },
      "source": [
        "Km =KMeans(n_clusters=3,n_jobs=-1)"
      ],
      "execution_count": 0,
      "outputs": []
    },
    {
      "cell_type": "code",
      "metadata": {
        "id": "0gGzIQ61QrwX",
        "colab_type": "code",
        "colab": {
          "base_uri": "https://localhost:8080/",
          "height": 68
        },
        "outputId": "f4b286f1-4974-4127-fbdf-ea3ac17efe44"
      },
      "source": [
        "Km.fit(X)"
      ],
      "execution_count": 17,
      "outputs": [
        {
          "output_type": "execute_result",
          "data": {
            "text/plain": [
              "KMeans(algorithm='auto', copy_x=True, init='k-means++', max_iter=300,\n",
              "       n_clusters=3, n_init=10, n_jobs=-1, precompute_distances='auto',\n",
              "       random_state=None, tol=0.0001, verbose=0)"
            ]
          },
          "metadata": {
            "tags": []
          },
          "execution_count": 17
        }
      ]
    },
    {
      "cell_type": "code",
      "metadata": {
        "id": "miOX1k7EhMGL",
        "colab_type": "code",
        "colab": {
          "base_uri": "https://localhost:8080/",
          "height": 34
        },
        "outputId": "b54fd62c-cbc0-496a-fcba-6f549d766f0f"
      },
      "source": [
        "Km.labels_"
      ],
      "execution_count": 18,
      "outputs": [
        {
          "output_type": "execute_result",
          "data": {
            "text/plain": [
              "array([0, 1, 0, ..., 0, 1, 0], dtype=int32)"
            ]
          },
          "metadata": {
            "tags": []
          },
          "execution_count": 18
        }
      ]
    },
    {
      "cell_type": "code",
      "metadata": {
        "id": "Pb4C51S2nYAi",
        "colab_type": "code",
        "colab": {
          "base_uri": "https://localhost:8080/",
          "height": 119
        },
        "outputId": "5b4b1b58-abfe-44c5-9d5e-58ecbe54a8e6"
      },
      "source": [
        "df['cluster']=Km.labels_"
      ],
      "execution_count": 19,
      "outputs": [
        {
          "output_type": "stream",
          "text": [
            "/usr/local/lib/python3.6/dist-packages/ipykernel_launcher.py:1: SettingWithCopyWarning: \n",
            "A value is trying to be set on a copy of a slice from a DataFrame.\n",
            "Try using .loc[row_indexer,col_indexer] = value instead\n",
            "\n",
            "See the caveats in the documentation: https://pandas.pydata.org/pandas-docs/stable/user_guide/indexing.html#returning-a-view-versus-a-copy\n",
            "  \"\"\"Entry point for launching an IPython kernel.\n"
          ],
          "name": "stderr"
        }
      ]
    },
    {
      "cell_type": "code",
      "metadata": {
        "id": "TT6zZxhonaCl",
        "colab_type": "code",
        "colab": {}
      },
      "source": [
        "df.to_csv('df_with_cluster.csv',sep=';')"
      ],
      "execution_count": 0,
      "outputs": []
    },
    {
      "cell_type": "code",
      "metadata": {
        "id": "1P9t70pKn8my",
        "colab_type": "code",
        "colab": {
          "base_uri": "https://localhost:8080/",
          "height": 54
        },
        "outputId": "64588902-ba4c-4e68-bcc2-14ecef6d2723"
      },
      "source": [
        "text[1]"
      ],
      "execution_count": 25,
      "outputs": [
        {
          "output_type": "execute_result",
          "data": {
            "text/plain": [
              "\"Certainement pas par les politiciens plus avides de pouvoir qui n'hésitent pas une fois élu à trahir la parole donnée plutôt que de servir le pays. La pluralité politique en France est un bien grand mot puisque depuis 40 ans c'est la m^me politique qui est menée. Oui. Professionnelles oui mais actuellement pas les syndicats trop politisés et qui ont ignoré voir méprisé la montée de la colère du peuple.  Les maires sont à mon sens les mieux placés pour représenter leurs administrés. Il faut leur donner davantage de responsabilité en étoffant les villes et villages au détriment des départements. Que ces représentants descendent vers le peuple, qu'ils soient indépendant du pouvoir politique et financés uniquement par les adhérents. Une bonne chose. Cette mesure devrait avoir pour effet de recentrer leur action sur leur seule fonction et non de se disperser. Elle doit s'accompagner d'une écoute plus approfondie de leurs administrés., ce qui n'est pas le cas actuellement. Validation du vote blanc aux diverses élections et davantage de proportionnelle, dusse t'elle conduire parfois à des impasses. Elle obligerait à un véritable travail de concertation entre les partis pour arriver à des consensus. Oui. Les départements  courroie de plus en plus inutile entre les régions,  les métropoles et les communautés de communes. Un transfert de leurs attribution vers les autres entités permettrait de faire des économies et contribuerait à supprimer une partie du mille feuille français qui coute très cher et dont la lourdeur est palpable pour les citoyens. C'est souvent difficile de savoir à qui l'on doit s'adresser pour la résolution de nos besoins et problèmes et souvent il y a des doublons entre région et département. Insuffisante.  Il faut rendre obligatoire la participation pour les citoyens. Tu vote tu as des droits, tu ne vote pas tes droits sont restreints. Oui. Lorsque aucun des candidats ne convient,  il y reste  le vote blanc qui compte pour du beurre. Alors les gens ne votent plus  en l'absence de candidat potentiel. Ce vote pris en compte au pourcentage réel de sa valeur représenterait réellement la carte politique de la France  et montrerait aux élus la fragilité de leur pouvoir et leur faire prendre conscience réellement de leur véritable poids dans la cité. Mettre en place le référendum d'initiative citoyenne pour des sujets engageant la souveraineté, la sécurité et l'avenir des citoyens . Ensuite organiser des réunions d'informations par les élus, cela serait un  bilan annuel de leurs actions qui pourrait être validé ou non par les citoyens. Oui. Toutes les questions relatives à l’intérêt propre de notre pays : immigration, décisions de la commission européenne engageant notre souveraineté par exemple ( pacte de Marrakech, pacte Franco-allemand ) doivent déclencher un référendum. Il pourrait être demandé par les citoyens par pétition au CESE ou par l'intermédiaire des maires en fonction des sujets et du pourcentage de citoyens qui le souhaitent. Pas de consultations obligatoires, les représentants ont été élus pour prendre les décisions,  mais il n'empêche qu'une meilleure information sur la  transparence des coûts engagés ( les plus importants) devraient être diffusée et un délai de réflexion laissé au citoyens avant toute signature définitive de l'engagement des sommes. Écouter enfin ce que le peuple a à dire, sortir de leurs tour d'ivoire parisienne et ne point mépriser les revendications des citoyens, comme ce fut le cas pour la pétition contre  le mariage pour tous. Oui. Obliger ces représentants à faire des réunions ( au moins une par an) dans leurs circonscriptions avec le peuple pour écouter  ses doléances. Ne rien changer à la loi, la laïcité n'a posé aucun problème jusqu'à aujourd'hui. C'est la monté de l'islam en france qui pose problème avec ses revendications communautaristes. Éducation nationale .... elle a failli depuis des années. Remettre l'éducation civique et morale au centre de cette éducation et ensuite les connaissances classiques. Ne plus influencer les jeunes sur les questions de genre et autres doxas  LGBT, migrants etc. Cela doit être laissé aux parents et aux jeunes pour se forger leur propre opinion. L'école c'est le savoir  et la connaissance pas les idéologies. L'écouter ce qui n'est plus le cas, donc il se désintéresse de la vie publique. Le respect du pays, de ses institutions et de ses lois. remettre le devoir de mémoire au centre de cette instruction civique car sans une connaissance de l'histoire du pays on en oublie les fondements, les sacrifices des anciens pour la défense de notre  liberté. N'oublions pas tous ces hommes et ces femmes qui se sont battus au cours des siècle pour la France, sa souveraineté et sa liberté. Je reviens sur l'école qui doit impérativement recentrer son action sur le savoir, la connaissance, le français les langues étrangères et les mathématiques d'une part  et les valeurs fondatrice de notre pays avec l'histoire la géographie et les sciences et l'instruction civique d'autre part.  Ce n'est pas à elle de parler de sociologie, laissons cela aux cursus universitaires. Prendre en considération l'avis du public avant toute décision fondamentale qui engage toute la société. Le mépriser c'est l'en détacher, le déresponsabiliser. Les citoyens sont intelligents dans notre pays, ils ont d'excellentes idées non polluées par les concepts politiques et économiques extérieurs, laissons les s'exprimer. -Le  non respect  des lois de la république  par un nombre de gens issu de l'immigration essentiellement musulmane et par des groupuscules parfois étrangers (zadistes, no borders, black blocs et autres) Il faut reprendre ces zones de non droit communautarisées au plus vite. - La politesse et le respect des autres qui ont disparu des écrans radar en France d'où le rôle important de l'école. Il y a des forces de l'ordre qui ont montré qu'elles étaient capable d'agir, il faut aussi que la Justice cesse son laxisme en en victimisant les coupables. Il existe des solutions comme les travaux d’intérêt généraux. Chaque citoyen  peut effectivement sensibiliser son prochain, mais on voit trop souvent d'honnêtes personnes se faire agresser en voulant intervenir et parfois ce sont eux qui sont culpabilisés par la suite en lieu et place des vrais coupables. Aidons les citoyens qui s'investissent, subventionnons plutôt ces associations d'utilité publique plutôt que celles qui participent à l’esclavage moderne des migrants en favorisant leur implantation dans le pays. Une discrimination dont on ne parle jamais , le racisme anti-blanc, plus répandu qu'il n'y parait.  L'antisémitisme également en progression dans le pays. La tolérance ne pourra être que quand certaines communautés cesseront de vouloir imposer aux autres leur culture, leur religion sur un territoire dont les gènes et les origines sont  différentes. Nous sommes un pays d'origine judéo-chrétienne qui accepte toute autres cultures dans la mesure où elles n'interfèrent pas dans les fondements et les institutions du pays. Lorsqu'elles revendiquent notre perte nous ne pouvons l'accepter. la tolérance c'est à ce prix. Oui. Tout bénéficiaire du RSA doit compenser cette aide par un travail pour la collectivité de quelques heures par semaine. Nous ne pouvons payer sans contrepartie si minime soit-elle ( A étudier, certains politiciens  l'ont déjà évoqué) Nos rues et nos routes seraient certainement plus propres, nos personnes âgées dans les EHPAD pourrait ainsi être mieux encadrées , aidées, par exemple et ce n'est pas exhaustif. cela donnerait aussi un sens à la vie des bénéficiaires car dans la vie on n'a rien sans travail. L'immigration en France a atteint un sommet qu'il faut stopper sous peine de voir le remplacement des autochtones par un autre civilisation.  La politique migratoire consisterait à développer nos aides envers les pays mais sous contrôle strict des projets, puisque les pays en voie de développement n'en sont pas capables. Les jeunes qui arrivent en France, alors que l'on peine déjà à trouver du travail pour les nôtres, seraient plus utiles à leur pays. Il faut donc limiter les aides individuelles aux migrants pour les investir  dans leur pays d'origine,  voilà un bon sens qui manque cruellement à nos édiles depuis la décolonisation car c'est toujours le même problème ce sont les gros qui se sont enrichis avant et après la décolonisation. L'ONU, machin inopérant  dans son périmètre actuel  pourrait valoriser ses actions par un devoir d’ingérence  en destituant les despotes affameurs de leur peuple.  Autre point , combattre la radicalisation des islamistes, fermer les mosquées salafistes, renvoyer les imams qu prêchent le djihad, reprendre en main les zones de non droit islamisées (déjà dit). Traiter l'immigration au point de départ en combattant les passeurs criminels et les associations d'accueil toujours financées par des ONG peu scrupuleuses manipulées par des gros financiers véreux. L'asile doit être temporaire et reconductible et dès que le pays est pacifié les gens y retourneraient. Il faut supprimer l'immigration économique qui détruit l'emploi en France. Accepter une immigration choisie en fonction des critères de diplômes et de besoins me semble plus judicieuse. Encore que ces gens seraient plus utiles pour développer leurs pays. La question est ambiguë car on parle de problème qui va durer et donc  semble insoluble pour le gouvernement.  C'est une lamentable soumission car vous avez entériné volontairement ce fait gravissime et déterminant pour l'avenir du pays. Je crois , moi,  que le problème peut être résolu rapidement. Il faut fermer les vannes des aides aux migrants, fermer nos frontières en particulier l'espace Schengen, renvoyer les clandestins dans leur pays ainsi que toutes les personnes portant un message anti-français,  cela rendra moins attractif notre pays. Quoique en pense l'Europe technocratique, les vagues de migrants sont l'esclavage moderne au profit de multinationales richissimes qui remplacent une main d’œuvre autochtone devenus chère par une autre sous qualifiée mais corvéable et taillable à merci . L'intelligence artificielle dont on nous vante tant les bienfaits sera le fossoyeur de notre société occidentale remplacée aujourd'hui par les migrants et demain par les robots. Apprendre la langue et la culture du pays ainsi que les principales lois et s'intégrer. Intégration et assimilation sont deux choses différentes. Intégration par le migrant lui même, assimilation par le pays d'accueil qui doit alors faire l'effort . Nous voulons l'intégration pas l'assimilation. Les vagues migratoires qu'a connu le pays ne ses sont pas faites sans douleur certes. Mais tous les  migrants  de ces époques se sont fondus dans la société. Italiens, polonais, portugais , espagnols et autres sont aujourd'hui des français et le revendiquent. ils ont conservé leurs traditions et leur culture sans chercher à nous l'imposer. Les premières générations de musulmans l'ont fait également. Les nouvelles générations et les petits enfants des premier, qui pourtant n'ont connu que la France , poussés par des extrémistes veulent nous imposer une politique et une religion qui ne sont pas les nôtres. Ce serait la fin de la France , c’est inacceptable. La démocratie c'est aussi accepter la liberté de parole et la contradiction sinon c'est la dictature. Nous n'en sommes pas loin en France aujourd'hui par le mépris affiché d'une certaine classe politique et médiatique pour le peuple d'en bas. \""
            ]
          },
          "metadata": {
            "tags": []
          },
          "execution_count": 25
        }
      ]
    },
    {
      "cell_type": "code",
      "metadata": {
        "id": "k90DN8Yg5dmF",
        "colab_type": "code",
        "colab": {}
      },
      "source": [
        ""
      ],
      "execution_count": 0,
      "outputs": []
    }
  ]
}